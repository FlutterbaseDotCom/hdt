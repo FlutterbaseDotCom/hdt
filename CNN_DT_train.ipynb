{
  "cells": [
    {
      "cell_type": "markdown",
      "metadata": {},
      "source": [
        "### Introduction\n",
        "\n",
        "This notebook is intended to train a Decision Transformer using offline data gathered from exploring the CarRacing-v2 environment with a pre-trained DQN model."
      ]
    },
    {
      "cell_type": "markdown",
      "metadata": {
        "id": "xpjcCHxkeLKO"
      },
      "source": [
        "### Install initial environment in Google Colab"
      ]
    },
    {
      "cell_type": "code",
      "execution_count": 1,
      "metadata": {
        "colab": {
          "base_uri": "https://localhost:8080/"
        },
        "id": "GRx1SfZkeLKQ",
        "outputId": "7cb88885-ea76-40bf-db14-2c9cdcb1373d"
      },
      "outputs": [],
      "source": [
        "import sys\n",
        "import os\n",
        "\n",
        "if 'google.colab' in sys.modules:\n",
        "  if not os.path.exists('/content/.already_installed'):\n",
        "    !git clone https://github.com/FlutterbaseDotCom/hdt\n",
        "    !apt-get install -y swig\n",
        "    !pip install -r hdt/requirements.txt\n",
        "    with open('/content/.already_installed', 'w') as f:\n",
        "        f.write('done')\n",
        "  %cd /content/hdt"
      ]
    },
    {
      "cell_type": "markdown",
      "metadata": {
        "id": "tyFxDs1beLKR"
      },
      "source": [
        "### Load Dataset"
      ]
    },
    {
      "cell_type": "code",
      "execution_count": 2,
      "metadata": {},
      "outputs": [
        {
          "name": "stdout",
          "output_type": "stream",
          "text": [
            "15\n"
          ]
        }
      ],
      "source": [
        "#car_racing_15_100\n",
        "#offline_car_racing_150_1000\n",
        "\n",
        "import utils.storage as storage\n",
        "features = storage.load_dataset('car_racing_15_100')\n",
        "print(len(features[\"observations\"]))"
      ]
    },
    {
      "cell_type": "code",
      "execution_count": 3,
      "metadata": {},
      "outputs": [],
      "source": [
        "import gymnasium as gym\n",
        "env =  gym.make('CarRacing-v2', continuous=False) #, render_mode='human'"
      ]
    },
    {
      "cell_type": "code",
      "execution_count": 6,
      "metadata": {},
      "outputs": [
        {
          "name": "stderr",
          "output_type": "stream",
          "text": [
            "\u001b[34m\u001b[1mwandb\u001b[0m: \u001b[33mWARNING\u001b[0m Calling wandb.login() after wandb.init() has no effect.\n"
          ]
        },
        {
          "data": {
            "text/html": [
              "Finishing last run (ID:dt_23) before initializing another..."
            ],
            "text/plain": [
              "<IPython.core.display.HTML object>"
            ]
          },
          "metadata": {},
          "output_type": "display_data"
        },
        {
          "data": {
            "text/html": [
              "Waiting for W&B process to finish... <strong style=\"color:green\">(success).</strong>"
            ],
            "text/plain": [
              "<IPython.core.display.HTML object>"
            ]
          },
          "metadata": {},
          "output_type": "display_data"
        },
        {
          "data": {
            "text/html": [
              "<style>\n",
              "    table.wandb td:nth-child(1) { padding: 0 10px; text-align: left ; width: auto;} td:nth-child(2) {text-align: left ; width: 100%}\n",
              "    .wandb-row { display: flex; flex-direction: row; flex-wrap: wrap; justify-content: flex-start; width: 100% }\n",
              "    .wandb-col { display: flex; flex-direction: column; flex-basis: 100%; flex: 1; padding: 10px; }\n",
              "    </style>\n",
              "<div class=\"wandb-row\"><div class=\"wandb-col\"><h3>Run history:</h3><br/><table class=\"wandb\"><tr><td>train/epoch</td><td>▁</td></tr><tr><td>train/global_step</td><td>▁</td></tr><tr><td>train/total_flos</td><td>▁</td></tr><tr><td>train/train_loss</td><td>▁</td></tr><tr><td>train/train_runtime</td><td>▁</td></tr><tr><td>train/train_samples_per_second</td><td>▁</td></tr><tr><td>train/train_steps_per_second</td><td>▁</td></tr></table><br/></div><div class=\"wandb-col\"><h3>Run summary:</h3><br/><table class=\"wandb\"><tr><td>train/epoch</td><td>2.0</td></tr><tr><td>train/global_step</td><td>2</td></tr><tr><td>train/total_flos</td><td>318621562675200.0</td></tr><tr><td>train/train_loss</td><td>1.78058</td></tr><tr><td>train/train_runtime</td><td>4.1127</td></tr><tr><td>train/train_samples_per_second</td><td>7.294</td></tr><tr><td>train/train_steps_per_second</td><td>0.486</td></tr></table><br/></div></div>"
            ],
            "text/plain": [
              "<IPython.core.display.HTML object>"
            ]
          },
          "metadata": {},
          "output_type": "display_data"
        },
        {
          "data": {
            "text/html": [
              " View run <strong style=\"color:#cdcd00\">DT_23</strong> at: <a href='https://wandb.ai/yakiv/CarRacingDT/runs/dt_23' target=\"_blank\">https://wandb.ai/yakiv/CarRacingDT/runs/dt_23</a><br/>Synced 3 W&B file(s), 0 media file(s), 3 artifact file(s) and 0 other file(s)"
            ],
            "text/plain": [
              "<IPython.core.display.HTML object>"
            ]
          },
          "metadata": {},
          "output_type": "display_data"
        },
        {
          "data": {
            "text/html": [
              "Find logs at: <code>./wandb/run-20231108_114230-dt_23/logs</code>"
            ],
            "text/plain": [
              "<IPython.core.display.HTML object>"
            ]
          },
          "metadata": {},
          "output_type": "display_data"
        },
        {
          "data": {
            "text/html": [
              "Successfully finished last run (ID:dt_23). Initializing new run:<br/>"
            ],
            "text/plain": [
              "<IPython.core.display.HTML object>"
            ]
          },
          "metadata": {},
          "output_type": "display_data"
        },
        {
          "data": {
            "text/html": [
              "wandb version 0.16.0 is available!  To upgrade, please run:\n",
              " $ pip install wandb --upgrade"
            ],
            "text/plain": [
              "<IPython.core.display.HTML object>"
            ]
          },
          "metadata": {},
          "output_type": "display_data"
        },
        {
          "data": {
            "text/html": [
              "Tracking run with wandb version 0.15.12"
            ],
            "text/plain": [
              "<IPython.core.display.HTML object>"
            ]
          },
          "metadata": {},
          "output_type": "display_data"
        },
        {
          "data": {
            "text/html": [
              "Run data is saved locally in <code>/Users/jacob/Documents/T/hdt/wandb/run-20231108_114501-dt_23</code>"
            ],
            "text/plain": [
              "<IPython.core.display.HTML object>"
            ]
          },
          "metadata": {},
          "output_type": "display_data"
        },
        {
          "data": {
            "text/html": [
              "Resuming run <strong><a href='https://wandb.ai/yakiv/CarRacingDT/runs/dt_23' target=\"_blank\">DT_23</a></strong> to <a href='https://wandb.ai/yakiv/CarRacingDT' target=\"_blank\">Weights & Biases</a> (<a href='https://wandb.me/run' target=\"_blank\">docs</a>)<br/>"
            ],
            "text/plain": [
              "<IPython.core.display.HTML object>"
            ]
          },
          "metadata": {},
          "output_type": "display_data"
        },
        {
          "data": {
            "text/html": [
              " View project at <a href='https://wandb.ai/yakiv/CarRacingDT' target=\"_blank\">https://wandb.ai/yakiv/CarRacingDT</a>"
            ],
            "text/plain": [
              "<IPython.core.display.HTML object>"
            ]
          },
          "metadata": {},
          "output_type": "display_data"
        },
        {
          "data": {
            "text/html": [
              " View run at <a href='https://wandb.ai/yakiv/CarRacingDT/runs/dt_23' target=\"_blank\">https://wandb.ai/yakiv/CarRacingDT/runs/dt_23</a>"
            ],
            "text/plain": [
              "<IPython.core.display.HTML object>"
            ]
          },
          "metadata": {},
          "output_type": "display_data"
        },
        {
          "data": {
            "text/html": [
              "<button onClick=\"this.nextSibling.style.display='block';this.style.display='none';\">Display W&B run</button><iframe src='https://wandb.ai/yakiv/CarRacingDT/runs/dt_23?jupyter=true' style='border:none;width:100%;height:420px;display:none;'></iframe>"
            ],
            "text/plain": [
              "<wandb.sdk.wandb_run.Run at 0x144efda80>"
            ]
          },
          "execution_count": 6,
          "metadata": {},
          "output_type": "execute_result"
        }
      ],
      "source": [
        "from dataclasses import asdict, dataclass\n",
        "import wandb\n",
        "import os\n",
        "\n",
        "\n",
        "@dataclass\n",
        "class TrainConfig:\n",
        "    # WANDB CONFIG\n",
        "    wandb_id: str = \"dt_23\"\n",
        "    wandb_name: str = \"DT_23\"\n",
        "    model_save_name: str = \"DT_MODEL_23\"\n",
        "    saved_model_version: str = \"latest\"\n",
        "    save_steps: int = 100\n",
        "\n",
        "    # TRAINING DATA CONFIG\n",
        "    num_train_epochs: int = 100\n",
        "    max_ep_len: int = 1000\n",
        "    max_length: int = 10\n",
        "    rtg_gamma: float = 1.0\n",
        "\n",
        "    prefix: str = 'DT'\n",
        "    log_interval: int = 5\n",
        "    save_steps: int = 30\n",
        "    per_device_train_batch_size: int = 64\n",
        "    learning_rate: float = 0.0001\n",
        "    weight_decay: float = 0.0001\n",
        "    warmup_ratio: float = 0.1\n",
        "    max_grad_norm: float = 0.25\n",
        "\n",
        "\n",
        "trainConfig = TrainConfig()\n",
        "\n",
        "os.environ[\"WANDB_DISABLED\"] = \"false\"\n",
        "os.environ['WANDB_NOTEBOOK_NAME'] = 'DT_train.ipynb'\n",
        "os.environ[\"WANDB_LOG_MODEL\"] = \"checkpoint\"\n",
        "\n",
        "wandb.login(key=\"f060d3284088ffaf4624e2de8b236f39711a99a2\") # move to .env!\n",
        "wandb.init(resume=trainConfig.wandb_id,\n",
        "           name = trainConfig.wandb_name,\n",
        "           mode=\"online\",\n",
        "           entity=\"yakiv\",\n",
        "            project=\"CarRacingDT\",\n",
        "            #resume= \"allow\"\n",
        "            config=asdict(trainConfig)\n",
        "           )\n"
      ]
    },
    {
      "cell_type": "markdown",
      "metadata": {
        "id": "Rmsghw2HeLKV"
      },
      "source": [
        "### Train"
      ]
    },
    {
      "cell_type": "code",
      "execution_count": 8,
      "metadata": {
        "colab": {
          "base_uri": "https://localhost:8080/",
          "height": 217
        },
        "id": "2HyHbWANeLKV",
        "outputId": "12b2da30-ef13-401a-88ae-c59cf2ee5f5e"
      },
      "outputs": [],
      "source": [
        "\n",
        "from cnn_decision_transformer.cnn_decision_transformer_trainable import CnnDecisionTransformerGymDataCollator, TrainableCnnDecisionTransformer\n",
        "from cnn_decision_transformer.configuration import DecisionTransformerConfig\n",
        "from utils.dataset_wrappers import DummyDataset\n",
        "from utils.dataset_wrappers import CarRacingFeatureDataset\n",
        "from transformers import Trainer, TrainingArguments\n",
        "\n",
        "feature_dataset = CarRacingFeatureDataset(src=features)\n",
        "collator = CnnDecisionTransformerGymDataCollator(feature_dataset, max_len=trainConfig.max_length,   max_ep_len=trainConfig.max_ep_len,)\n",
        "\n",
        "dt_config = DecisionTransformerConfig(state_dim=collator.state_dim, act_dim=collator.act_dim,\n",
        "                                      max_length = trainConfig.max_length,\n",
        "                                      max_ep_len = trainConfig.max_ep_len,  \n",
        "                                      )\n",
        "\n",
        "model = TrainableCnnDecisionTransformer(dt_config)\n",
        "\n",
        "\n",
        "training_args = TrainingArguments(\n",
        "    output_dir=\"output/\",\n",
        "    report_to=\"wandb\",\n",
        "    save_steps= trainConfig.save_steps,\n",
        "    remove_unused_columns=False,\n",
        "    optim=\"adamw_torch\",\n",
        "    num_train_epochs=trainConfig.num_train_epochs,\n",
        "    per_device_train_batch_size= trainConfig.per_device_train_batch_size,\n",
        "    learning_rate= trainConfig.learning_rate,\n",
        "    weight_decay= trainConfig.weight_decay,\n",
        "    warmup_ratio= trainConfig.warmup_ratio,\n",
        "    max_grad_norm= trainConfig.max_grad_norm,\n",
        "    logging_steps= trainConfig.log_interval,\n",
        ")\n",
        "\n",
        "    \n",
        "\n",
        "trainer = Trainer(\n",
        "    model=model,\n",
        "    args=training_args,\n",
        "    train_dataset=DummyDataset(len(feature_dataset)), #there is a 'hack'  - no need to pass actual data\n",
        "    data_collator=collator,\n",
        "\n",
        ")\n",
        "\n",
        "trainer.train()\n"
      ]
    },
    {
      "cell_type": "code",
      "execution_count": null,
      "metadata": {},
      "outputs": [],
      "source": [
        "#play\n",
        "import matplotlib.pyplot as plt\n",
        "from IPython.display import display as ipy_display, clear_output\n",
        "#import gymnasium as gym\n",
        "# build the environment\n",
        "max_ep_len = 1000\n",
        "device = 'cpu'\n",
        "model = model.to('cpu')\n",
        "scale = 1000.0  # normalization for rewards/returns\n",
        "TARGET_RETURN = 900 / scale  # evaluation is conditioned on a return of 12000, scaled accordingly\n",
        "\n",
        "env =  gym.make('CarRacing-v2', render_mode='rgb_array', continuous=False) #, \n",
        "\n",
        "state_dim = 96*96*3\n",
        "act_dim = 1\n",
        "# Create the decision transformer model\n",
        "\n",
        "# Interact with the environment and create a video\n",
        "episode_return, episode_length = 0, 0\n",
        "[state, _] = env.reset()\n",
        "state = prepare_observation_array(state)\n",
        "target_return = torch.tensor(TARGET_RETURN, device=device, dtype=torch.float32).reshape(1, 1)\n",
        "states = torch.from_numpy(state).reshape(1, state_dim).to(device=device, dtype=torch.float32)\n",
        "actions = torch.zeros((0, act_dim),  device=device, dtype=torch.long)\n",
        "rewards = torch.zeros(0, device=device, dtype=torch.float32)\n",
        "print_every = 10\n",
        "iter = 0\n",
        "\n",
        "timesteps = torch.tensor(0, device=device, dtype=torch.long).reshape(1, 1)\n",
        "for t in range(max_ep_len):\n",
        "    iter += 1\n",
        "    actions = torch.cat([actions, torch.zeros((1, act_dim), dtype=torch.long,  device=device)], dim=0)\n",
        "    rewards = torch.cat([rewards, torch.zeros(1, device=device)])\n",
        "\n",
        "    action = get_action(\n",
        "        model,\n",
        "        states,\n",
        "        actions,\n",
        "        rewards,\n",
        "        target_return,\n",
        "        timesteps,\n",
        "    )\n",
        "    \n",
        "    action =   torch.argmax(action).item() # action.detach().cpu().numpy()\n",
        "    \n",
        "    actions[-1] = torch.tensor(action, dtype=torch.long) \n",
        "\n",
        "    state, reward, done, _, _ = env.step(action)\n",
        "    \n",
        "    if iter % print_every ==0:\n",
        "      image = env.render()\n",
        "      clear_output(wait=True)\n",
        "      plt.imshow(image)\n",
        "      plt.axis('off')  # Hide the axis\n",
        "      display(plt.gcf())\n",
        "    \n",
        "    \n",
        "\n",
        "    state = prepare_observation_array(state)\n",
        "    cur_state = torch.from_numpy(state).to(device=device).reshape(1, state_dim)\n",
        "    states = torch.cat([states, cur_state], dim=0)\n",
        "    rewards[-1] = reward\n",
        "\n",
        "    pred_return = target_return[0, -1] - (reward / scale)\n",
        "    target_return = torch.cat([target_return, pred_return.reshape(1, 1)], dim=1)\n",
        "    timesteps = torch.cat([timesteps, torch.ones((1, 1), device=device, dtype=torch.long) * (t + 1)], dim=1)\n",
        "\n",
        "    episode_return += reward\n",
        "    episode_length += 1\n",
        "\n",
        "    if done:\n",
        "        break"
      ]
    }
  ],
  "metadata": {
    "accelerator": "GPU",
    "colab": {
      "gpuType": "V100",
      "machine_shape": "hm",
      "provenance": []
    },
    "kernelspec": {
      "display_name": "Python 3",
      "name": "python3"
    },
    "language_info": {
      "codemirror_mode": {
        "name": "ipython",
        "version": 3
      },
      "file_extension": ".py",
      "mimetype": "text/x-python",
      "name": "python",
      "nbconvert_exporter": "python",
      "pygments_lexer": "ipython3",
      "version": "3.10.12"
    }
  },
  "nbformat": 4,
  "nbformat_minor": 0
}
