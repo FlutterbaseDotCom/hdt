{
  "cells": [
    {
      "cell_type": "markdown",
      "metadata": {},
      "source": [
        "### V 17:54"
      ]
    },
    {
      "cell_type": "markdown",
      "metadata": {
        "id": "xpjcCHxkeLKO"
      },
      "source": [
        "### Install initial environment in Google Colab"
      ]
    },
    {
      "cell_type": "code",
      "execution_count": 1,
      "metadata": {
        "colab": {
          "base_uri": "https://localhost:8080/"
        },
        "id": "GRx1SfZkeLKQ",
        "outputId": "7cb88885-ea76-40bf-db14-2c9cdcb1373d"
      },
      "outputs": [],
      "source": [
        "import sys\n",
        "import os\n",
        "\n",
        "if 'google.colab' in sys.modules:\n",
        "  if not os.path.exists('/content/.already_installed'):\n",
        "    !git clone https://github.com/FlutterbaseDotCom/hdt\n",
        "    !apt-get install -y swig\n",
        "    !pip install -r hdt/requirements.txt\n",
        "    with open('/content/.already_installed', 'w') as f:\n",
        "        f.write('done')\n",
        "  %cd /content/hdt"
      ]
    },
    {
      "cell_type": "markdown",
      "metadata": {
        "id": "tyFxDs1beLKR"
      },
      "source": [
        "### Imports"
      ]
    },
    {
      "cell_type": "code",
      "execution_count": 2,
      "metadata": {
        "colab": {
          "base_uri": "https://localhost:8080/"
        },
        "id": "99O1Dp3weLKR",
        "outputId": "caaf2cfe-d075-495a-857b-fa23d9426e62"
      },
      "outputs": [
        {
          "name": "stderr",
          "output_type": "stream",
          "text": [
            "/Users/jacob/.pyenv/versions/3.10.12/lib/python3.10/site-packages/tqdm/auto.py:21: TqdmWarning: IProgress not found. Please update jupyter and ipywidgets. See https://ipywidgets.readthedocs.io/en/stable/user_install.html\n",
            "  from .autonotebook import tqdm as notebook_tqdm\n"
          ]
        }
      ],
      "source": [
        "import os\n",
        "import random\n",
        "from dataclasses import dataclass\n",
        "\n",
        "import gymnasium as gym\n",
        "import numpy as np\n",
        "import torch\n",
        "import torch.nn as nn\n",
        "import wandb\n",
        "from datasets import Dataset\n",
        "from stable_baselines3 import DQN\n",
        "from stable_baselines3.common.torch_layers import NatureCNN\n",
        "from stable_baselines3.common.vec_env import DummyVecEnv, VecTransposeImage\n",
        "from torch.utils.data import Subset\n",
        "from transformers import Trainer, TrainingArguments\n",
        "\n",
        "from dt.configuration_decision_transformer import DecisionTransformerConfig\n",
        "from dt.modeling_decision_transformer import DecisionTransformerModel\n",
        "from extract_cnn import prepare_observation_array\n",
        "from dt.trainable_dt import DecisionTransformerGymDataCollator, TrainableDT"
      ]
    },
    {
      "cell_type": "code",
      "execution_count": 3,
      "metadata": {},
      "outputs": [
        {
          "name": "stdout",
          "output_type": "stream",
          "text": [
            "15\n"
          ]
        }
      ],
      "source": [
        "#car_racing_15_100\n",
        "#offline_car_racing_150_1000\n",
        "\n",
        "import utils.storage as storage\n",
        "features = storage.load_dataset('car_racing_15_100')\n",
        "print(len(features[\"observations\"]))"
      ]
    },
    {
      "cell_type": "markdown",
      "metadata": {
        "id": "bCAF3Q2meLKU"
      },
      "source": [
        "### Persist Dataset"
      ]
    },
    {
      "cell_type": "markdown",
      "metadata": {},
      "source": [
        "### Split dataset"
      ]
    },
    {
      "cell_type": "code",
      "execution_count": 4,
      "metadata": {
        "colab": {
          "base_uri": "https://localhost:8080/",
          "height": 193
        },
        "id": "hSYgW1lWeLKU",
        "outputId": "069df814-9e81-41ec-81f9-379007a372ec"
      },
      "outputs": [],
      "source": [
        "from utils.config import CONFIG, WANDB_ID, WNDB_NAME\n",
        "import os\n",
        "\n",
        "os.environ[\"WANDB_DISABLED\"] = \"false\"\n",
        "\n",
        "env =  gym.make('CarRacing-v2', continuous=False) #, render_mode='human'\n"
      ]
    },
    {
      "cell_type": "code",
      "execution_count": 5,
      "metadata": {},
      "outputs": [
        {
          "name": "stderr",
          "output_type": "stream",
          "text": [
            "\u001b[34m\u001b[1mwandb\u001b[0m: Currently logged in as: \u001b[33myakiv\u001b[0m. Use \u001b[1m`wandb login --relogin`\u001b[0m to force relogin\n",
            "\u001b[34m\u001b[1mwandb\u001b[0m: \u001b[33mWARNING\u001b[0m If you're specifying your api key in code, ensure this code is not shared publicly.\n",
            "\u001b[34m\u001b[1mwandb\u001b[0m: \u001b[33mWARNING\u001b[0m Consider setting the WANDB_API_KEY environment variable, or running `wandb login` from the command line.\n",
            "\u001b[34m\u001b[1mwandb\u001b[0m: Appending key for api.wandb.ai to your netrc file: /Users/jacob/.netrc\n"
          ]
        },
        {
          "data": {
            "text/html": [
              "Tracking run with wandb version 0.15.12"
            ],
            "text/plain": [
              "<IPython.core.display.HTML object>"
            ]
          },
          "metadata": {},
          "output_type": "display_data"
        },
        {
          "data": {
            "text/html": [
              "Run data is saved locally in <code>/Users/jacob/Documents/T/hdt/wandb/run-20231107_210840-dt_22</code>"
            ],
            "text/plain": [
              "<IPython.core.display.HTML object>"
            ]
          },
          "metadata": {},
          "output_type": "display_data"
        },
        {
          "data": {
            "text/html": [
              "Resuming run <strong><a href='https://wandb.ai/yakiv/CarRacingDT/runs/dt_22' target=\"_blank\">DT_22</a></strong> to <a href='https://wandb.ai/yakiv/CarRacingDT' target=\"_blank\">Weights & Biases</a> (<a href='https://wandb.me/run' target=\"_blank\">docs</a>)<br/>"
            ],
            "text/plain": [
              "<IPython.core.display.HTML object>"
            ]
          },
          "metadata": {},
          "output_type": "display_data"
        },
        {
          "data": {
            "text/html": [
              " View project at <a href='https://wandb.ai/yakiv/CarRacingDT' target=\"_blank\">https://wandb.ai/yakiv/CarRacingDT</a>"
            ],
            "text/plain": [
              "<IPython.core.display.HTML object>"
            ]
          },
          "metadata": {},
          "output_type": "display_data"
        },
        {
          "data": {
            "text/html": [
              " View run at <a href='https://wandb.ai/yakiv/CarRacingDT/runs/dt_22' target=\"_blank\">https://wandb.ai/yakiv/CarRacingDT/runs/dt_22</a>"
            ],
            "text/plain": [
              "<IPython.core.display.HTML object>"
            ]
          },
          "metadata": {},
          "output_type": "display_data"
        },
        {
          "data": {
            "text/html": [
              "<button onClick=\"this.nextSibling.style.display='block';this.style.display='none';\">Display W&B run</button><iframe src='https://wandb.ai/yakiv/CarRacingDT/runs/dt_22?jupyter=true' style='border:none;width:100%;height:420px;display:none;'></iframe>"
            ],
            "text/plain": [
              "<wandb.sdk.wandb_run.Run at 0x13dcdd390>"
            ]
          },
          "execution_count": 5,
          "metadata": {},
          "output_type": "execute_result"
        }
      ],
      "source": [
        "os.environ['WANDB_NOTEBOOK_NAME'] = 'DT_train.ipynb'\n",
        "os.environ['WANDB_MODE']='online'\n",
        "os.environ[\"WANDB_LOG_MODEL\"] = \"checkpoint\"\n",
        "\n",
        "wandb.login(key=\"f060d3284088ffaf4624e2de8b236f39711a99a2\")\n",
        "wandb.init(resume=WANDB_ID,\n",
        "           name = WNDB_NAME,\n",
        "           mode=\"online\",\n",
        "           entity=\"yakiv\",\n",
        "            project=\"CarRacingDT\",\n",
        "            #resume= \"allow\"\n",
        "            config=CONFIG\n",
        "           )\n"
      ]
    },
    {
      "cell_type": "markdown",
      "metadata": {
        "id": "Rmsghw2HeLKV"
      },
      "source": [
        "### Train"
      ]
    },
    {
      "cell_type": "code",
      "execution_count": 6,
      "metadata": {
        "colab": {
          "base_uri": "https://localhost:8080/",
          "height": 217
        },
        "id": "2HyHbWANeLKV",
        "outputId": "12b2da30-ef13-401a-88ae-c59cf2ee5f5e"
      },
      "outputs": [
        {
          "ename": "ImportError",
          "evalue": "cannot import name 'CarRacingFeatureDataset' from 'utils.dataset_wrappers' (/Users/jacob/Documents/T/hdt/utils/dataset_wrappers.py)",
          "output_type": "error",
          "traceback": [
            "\u001b[0;31m---------------------------------------------------------------------------\u001b[0m",
            "\u001b[0;31mImportError\u001b[0m                               Traceback (most recent call last)",
            "\u001b[1;32m/Users/jacob/Documents/T/hdt/DT_train.ipynb Cell 12\u001b[0m line \u001b[0;36m2\n\u001b[1;32m      <a href='vscode-notebook-cell:/Users/jacob/Documents/T/hdt/DT_train.ipynb#X15sZmlsZQ%3D%3D?line=0'>1</a>\u001b[0m \u001b[39mfrom\u001b[39;00m \u001b[39mutils\u001b[39;00m\u001b[39m.\u001b[39;00m\u001b[39mdataset_wrappers\u001b[39;00m \u001b[39mimport\u001b[39;00m DummyDataset\n\u001b[0;32m----> <a href='vscode-notebook-cell:/Users/jacob/Documents/T/hdt/DT_train.ipynb#X15sZmlsZQ%3D%3D?line=1'>2</a>\u001b[0m \u001b[39mfrom\u001b[39;00m \u001b[39mutils\u001b[39;00m\u001b[39m.\u001b[39;00m\u001b[39mdataset_wrappers\u001b[39;00m \u001b[39mimport\u001b[39;00m CarRacingFeatureDataset\n\u001b[1;32m      <a href='vscode-notebook-cell:/Users/jacob/Documents/T/hdt/DT_train.ipynb#X15sZmlsZQ%3D%3D?line=3'>4</a>\u001b[0m feature_dataset \u001b[39m=\u001b[39m CarRacingFeatureDataset(src\u001b[39m=\u001b[39mfeatures)\n\u001b[1;32m      <a href='vscode-notebook-cell:/Users/jacob/Documents/T/hdt/DT_train.ipynb#X15sZmlsZQ%3D%3D?line=4'>5</a>\u001b[0m collator \u001b[39m=\u001b[39m DecisionTransformerGymDataCollator(feature_dataset, max_len\u001b[39m=\u001b[39mCONFIG[\u001b[39m\"\u001b[39m\u001b[39mmax_length\u001b[39m\u001b[39m\"\u001b[39m],   max_ep_len\u001b[39m=\u001b[39mCONFIG[\u001b[39m\"\u001b[39m\u001b[39mmax_ep_len\u001b[39m\u001b[39m\"\u001b[39m],)\n",
            "\u001b[0;31mImportError\u001b[0m: cannot import name 'CarRacingFeatureDataset' from 'utils.dataset_wrappers' (/Users/jacob/Documents/T/hdt/utils/dataset_wrappers.py)"
          ]
        }
      ],
      "source": [
        "\n",
        "from utils.dataset_wrappers import DummyDataset\n",
        "from utils.dataset_wrappers import CarRacingFeatureDataset\n",
        "\n",
        "feature_dataset = CarRacingFeatureDataset(src=features)\n",
        "collator = DecisionTransformerGymDataCollator(feature_dataset, max_len=CONFIG[\"max_length\"],   max_ep_len=CONFIG[\"max_ep_len\"],)\n",
        "\n",
        "dt_config = DecisionTransformerConfig(state_dim=collator.state_dim, act_dim=collator.act_dim,\n",
        "                                      max_length = CONFIG[\"max_length\"],\n",
        "                                      max_ep_len = CONFIG[\"max_ep_len\"],  \n",
        "                                      )\n",
        "print(dt_config.to_dict())\n",
        "\n",
        "model = TrainableDT(dt_config)\n",
        "\n",
        "\n",
        "training_args = TrainingArguments(\n",
        "    output_dir=\"output/\",\n",
        "    report_to=\"wandb\",\n",
        "    save_steps=CONFIG[\"save_steps\"],\n",
        "    remove_unused_columns=False,\n",
        "    optim=\"adamw_torch\",\n",
        "    num_train_epochs=CONFIG[\"num_train_epochs\"],\n",
        "    per_device_train_batch_size=CONFIG[\"per_device_train_batch_size\"],\n",
        "    learning_rate=CONFIG[\"learning_rate\"],\n",
        "    weight_decay=CONFIG[\"weight_decay\"],\n",
        "    warmup_ratio=CONFIG[\"warmup_ratio\"],\n",
        "    max_grad_norm=CONFIG[\"max_grad_norm\"],\n",
        "    logging_steps=CONFIG[\"LOG_INTERVAL\"],\n",
        ")\n",
        "\n",
        "    \n",
        "\n",
        "trainer = Trainer(\n",
        "    model=model,\n",
        "    args=training_args,\n",
        "    train_dataset=DummyDataset(len(feature_dataset)), #there is a hack there - no need to pass data here, its linked in collator\n",
        "    data_collator=collator,\n",
        "\n",
        ")\n",
        "\n",
        "trainer.train()\n"
      ]
    },
    {
      "cell_type": "code",
      "execution_count": null,
      "metadata": {},
      "outputs": [],
      "source": [
        "#play\n",
        "import matplotlib.pyplot as plt\n",
        "from IPython.display import display as ipy_display, clear_output\n",
        "#import gymnasium as gym\n",
        "# build the environment\n",
        "max_ep_len = 1000\n",
        "device = 'cpu'\n",
        "model = model.to('cpu')\n",
        "scale = 1000.0  # normalization for rewards/returns\n",
        "TARGET_RETURN = 900 / scale  # evaluation is conditioned on a return of 12000, scaled accordingly\n",
        "\n",
        "env =  gym.make('CarRacing-v2', render_mode='rgb_array', continuous=False) #, \n",
        "\n",
        "state_dim = 96*96*3\n",
        "act_dim = 1\n",
        "# Create the decision transformer model\n",
        "\n",
        "# Interact with the environment and create a video\n",
        "episode_return, episode_length = 0, 0\n",
        "[state, _] = env.reset()\n",
        "state = prepare_observation_array(state)\n",
        "target_return = torch.tensor(TARGET_RETURN, device=device, dtype=torch.float32).reshape(1, 1)\n",
        "states = torch.from_numpy(state).reshape(1, state_dim).to(device=device, dtype=torch.float32)\n",
        "actions = torch.zeros((0, act_dim),  device=device, dtype=torch.long)\n",
        "rewards = torch.zeros(0, device=device, dtype=torch.float32)\n",
        "print_every = 10\n",
        "iter = 0\n",
        "\n",
        "timesteps = torch.tensor(0, device=device, dtype=torch.long).reshape(1, 1)\n",
        "for t in range(max_ep_len):\n",
        "    iter += 1\n",
        "    actions = torch.cat([actions, torch.zeros((1, act_dim), dtype=torch.long,  device=device)], dim=0)\n",
        "    rewards = torch.cat([rewards, torch.zeros(1, device=device)])\n",
        "\n",
        "    action = get_action(\n",
        "        model,\n",
        "        states,\n",
        "        actions,\n",
        "        rewards,\n",
        "        target_return,\n",
        "        timesteps,\n",
        "    )\n",
        "    \n",
        "    action =   torch.argmax(action).item() # action.detach().cpu().numpy()\n",
        "    \n",
        "    actions[-1] = torch.tensor(action, dtype=torch.long) \n",
        "\n",
        "    state, reward, done, _, _ = env.step(action)\n",
        "    \n",
        "    if iter % print_every ==0:\n",
        "      image = env.render()\n",
        "      clear_output(wait=True)\n",
        "      plt.imshow(image)\n",
        "      plt.axis('off')  # Hide the axis\n",
        "      display(plt.gcf())\n",
        "    \n",
        "    \n",
        "\n",
        "    state = prepare_observation_array(state)\n",
        "    cur_state = torch.from_numpy(state).to(device=device).reshape(1, state_dim)\n",
        "    states = torch.cat([states, cur_state], dim=0)\n",
        "    rewards[-1] = reward\n",
        "\n",
        "    pred_return = target_return[0, -1] - (reward / scale)\n",
        "    target_return = torch.cat([target_return, pred_return.reshape(1, 1)], dim=1)\n",
        "    timesteps = torch.cat([timesteps, torch.ones((1, 1), device=device, dtype=torch.long) * (t + 1)], dim=1)\n",
        "\n",
        "    episode_return += reward\n",
        "    episode_length += 1\n",
        "\n",
        "    if done:\n",
        "        break"
      ]
    }
  ],
  "metadata": {
    "accelerator": "GPU",
    "colab": {
      "gpuType": "V100",
      "machine_shape": "hm",
      "provenance": []
    },
    "kernelspec": {
      "display_name": "Python 3",
      "name": "python3"
    },
    "language_info": {
      "codemirror_mode": {
        "name": "ipython",
        "version": 3
      },
      "file_extension": ".py",
      "mimetype": "text/x-python",
      "name": "python",
      "nbconvert_exporter": "python",
      "pygments_lexer": "ipython3",
      "version": "3.10.12"
    }
  },
  "nbformat": 4,
  "nbformat_minor": 0
}
