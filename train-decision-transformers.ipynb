{
  "cells": [
    {
      "cell_type": "markdown",
      "metadata": {
        "id": "WCsT6KVxwARY"
      },
      "source": [
        "### Step 1: Install dependencies for model evaluation 🔽"
      ]
    },
    {
      "cell_type": "code",
      "execution_count": 1,
      "metadata": {
        "id": "4qntpWiEWX89"
      },
      "outputs": [
        {
          "name": "stdout",
          "output_type": "stream",
          "text": [
            "zsh:1: command not found: apt-get\n"
          ]
        }
      ],
      "source": [
        "!apt-get install -y \\\n",
        "    libgl1-mesa-dev \\\n",
        "    libgl1-mesa-glx \\\n",
        "    libglew-dev \\\n",
        "    libosmesa6-dev \\\n",
        "    software-properties-common \\\n",
        "    patchelf \\\n",
        "    xvfb"
      ]
    },
    {
      "cell_type": "markdown",
      "metadata": {
        "id": "Qr-1h83zVsMK"
      },
      "source": [
        "### Step 2: Install and import the packages 📦\n",
        "\n"
      ]
    },
    {
      "cell_type": "code",
      "execution_count": 2,
      "metadata": {
        "id": "RuXIPJUWVrhq"
      },
      "outputs": [
        {
          "name": "stdout",
          "output_type": "stream",
          "text": [
            "Requirement already satisfied: free-mujoco-py in /Users/jacob/.pyenv/versions/3.10.12/lib/python3.10/site-packages (2.1.6)\n",
            "Requirement already satisfied: cffi<2.0.0,>=1.15.0 in /Users/jacob/.pyenv/versions/3.10.12/lib/python3.10/site-packages (from free-mujoco-py) (1.16.0)\n",
            "Requirement already satisfied: numpy<2.0.0,>=1.21.3 in /Users/jacob/.pyenv/versions/3.10.12/lib/python3.10/site-packages (from free-mujoco-py) (1.26.1)\n",
            "Requirement already satisfied: Cython<0.30.0,>=0.29.24 in /Users/jacob/.pyenv/versions/3.10.12/lib/python3.10/site-packages (from free-mujoco-py) (0.29.36)\n",
            "Requirement already satisfied: glfw<2.0.0,>=1.4.0 in /Users/jacob/.pyenv/versions/3.10.12/lib/python3.10/site-packages (from free-mujoco-py) (1.12.0)\n",
            "Collecting imageio<3.0.0,>=2.9.0\n",
            "  Using cached imageio-2.31.6-py3-none-any.whl (313 kB)\n",
            "Requirement already satisfied: fasteners==0.15 in /Users/jacob/.pyenv/versions/3.10.12/lib/python3.10/site-packages (from free-mujoco-py) (0.15)\n",
            "Requirement already satisfied: six in /Users/jacob/.pyenv/versions/3.10.12/lib/python3.10/site-packages (from fasteners==0.15->free-mujoco-py) (1.16.0)\n",
            "Requirement already satisfied: monotonic>=0.1 in /Users/jacob/.pyenv/versions/3.10.12/lib/python3.10/site-packages (from fasteners==0.15->free-mujoco-py) (1.6)\n",
            "Requirement already satisfied: pycparser in /Users/jacob/.pyenv/versions/3.10.12/lib/python3.10/site-packages (from cffi<2.0.0,>=1.15.0->free-mujoco-py) (2.21)\n",
            "Requirement already satisfied: pillow<10.1.0,>=8.3.2 in /Users/jacob/.pyenv/versions/3.10.12/lib/python3.10/site-packages (from imageio<3.0.0,>=2.9.0->free-mujoco-py) (10.0.1)\n",
            "Installing collected packages: imageio\n",
            "  Attempting uninstall: imageio\n",
            "    Found existing installation: imageio 2.4.1\n",
            "    Uninstalling imageio-2.4.1:\n",
            "      Successfully uninstalled imageio-2.4.1\n",
            "Successfully installed imageio-2.31.6\n",
            "\n",
            "\u001b[1m[\u001b[0m\u001b[34;49mnotice\u001b[0m\u001b[1;39;49m]\u001b[0m\u001b[39;49m A new release of pip is available: \u001b[0m\u001b[31;49m23.0.1\u001b[0m\u001b[39;49m -> \u001b[0m\u001b[32;49m23.3.1\u001b[0m\n",
            "\u001b[1m[\u001b[0m\u001b[34;49mnotice\u001b[0m\u001b[1;39;49m]\u001b[0m\u001b[39;49m To update, run: \u001b[0m\u001b[32;49mpip install --upgrade pip\u001b[0m\n",
            "zsh:1: no matches found: transformers[torch]\n",
            "Requirement already satisfied: transformers in /Users/jacob/.pyenv/versions/3.10.12/lib/python3.10/site-packages (4.34.1)\n",
            "Requirement already satisfied: requests in /Users/jacob/.pyenv/versions/3.10.12/lib/python3.10/site-packages (from transformers) (2.31.0)\n",
            "Requirement already satisfied: huggingface-hub<1.0,>=0.16.4 in /Users/jacob/.pyenv/versions/3.10.12/lib/python3.10/site-packages (from transformers) (0.17.3)\n",
            "Requirement already satisfied: tqdm>=4.27 in /Users/jacob/.pyenv/versions/3.10.12/lib/python3.10/site-packages (from transformers) (4.66.1)\n",
            "Requirement already satisfied: packaging>=20.0 in /Users/jacob/.pyenv/versions/3.10.12/lib/python3.10/site-packages (from transformers) (23.2)\n",
            "Requirement already satisfied: regex!=2019.12.17 in /Users/jacob/.pyenv/versions/3.10.12/lib/python3.10/site-packages (from transformers) (2023.10.3)\n",
            "Requirement already satisfied: filelock in /Users/jacob/.pyenv/versions/3.10.12/lib/python3.10/site-packages (from transformers) (3.13.0)\n",
            "Requirement already satisfied: safetensors>=0.3.1 in /Users/jacob/.pyenv/versions/3.10.12/lib/python3.10/site-packages (from transformers) (0.4.0)\n",
            "Requirement already satisfied: tokenizers<0.15,>=0.14 in /Users/jacob/.pyenv/versions/3.10.12/lib/python3.10/site-packages (from transformers) (0.14.1)\n",
            "Requirement already satisfied: pyyaml>=5.1 in /Users/jacob/.pyenv/versions/3.10.12/lib/python3.10/site-packages (from transformers) (6.0.1)\n",
            "Requirement already satisfied: numpy>=1.17 in /Users/jacob/.pyenv/versions/3.10.12/lib/python3.10/site-packages (from transformers) (1.26.1)\n",
            "Requirement already satisfied: fsspec in /Users/jacob/.pyenv/versions/3.10.12/lib/python3.10/site-packages (from huggingface-hub<1.0,>=0.16.4->transformers) (2023.10.0)\n",
            "Requirement already satisfied: typing-extensions>=3.7.4.3 in /Users/jacob/.pyenv/versions/3.10.12/lib/python3.10/site-packages (from huggingface-hub<1.0,>=0.16.4->transformers) (4.8.0)\n",
            "Requirement already satisfied: idna<4,>=2.5 in /Users/jacob/.pyenv/versions/3.10.12/lib/python3.10/site-packages (from requests->transformers) (3.4)\n",
            "Requirement already satisfied: charset-normalizer<4,>=2 in /Users/jacob/.pyenv/versions/3.10.12/lib/python3.10/site-packages (from requests->transformers) (3.3.1)\n",
            "Requirement already satisfied: urllib3<3,>=1.21.1 in /Users/jacob/.pyenv/versions/3.10.12/lib/python3.10/site-packages (from requests->transformers) (2.0.7)\n",
            "Requirement already satisfied: certifi>=2017.4.17 in /Users/jacob/.pyenv/versions/3.10.12/lib/python3.10/site-packages (from requests->transformers) (2023.7.22)\n",
            "\n",
            "\u001b[1m[\u001b[0m\u001b[34;49mnotice\u001b[0m\u001b[1;39;49m]\u001b[0m\u001b[39;49m A new release of pip is available: \u001b[0m\u001b[31;49m23.0.1\u001b[0m\u001b[39;49m -> \u001b[0m\u001b[32;49m23.3.1\u001b[0m\n",
            "\u001b[1m[\u001b[0m\u001b[34;49mnotice\u001b[0m\u001b[1;39;49m]\u001b[0m\u001b[39;49m To update, run: \u001b[0m\u001b[32;49mpip install --upgrade pip\u001b[0m\n",
            "Requirement already satisfied: datasets in /Users/jacob/.pyenv/versions/3.10.12/lib/python3.10/site-packages (2.14.6)\n",
            "Requirement already satisfied: requests>=2.19.0 in /Users/jacob/.pyenv/versions/3.10.12/lib/python3.10/site-packages (from datasets) (2.31.0)\n",
            "Requirement already satisfied: numpy>=1.17 in /Users/jacob/.pyenv/versions/3.10.12/lib/python3.10/site-packages (from datasets) (1.26.1)\n",
            "Requirement already satisfied: dill<0.3.8,>=0.3.0 in /Users/jacob/.pyenv/versions/3.10.12/lib/python3.10/site-packages (from datasets) (0.3.7)\n",
            "Requirement already satisfied: pandas in /Users/jacob/.pyenv/versions/3.10.12/lib/python3.10/site-packages (from datasets) (2.1.2)\n",
            "Requirement already satisfied: huggingface-hub<1.0.0,>=0.14.0 in /Users/jacob/.pyenv/versions/3.10.12/lib/python3.10/site-packages (from datasets) (0.17.3)\n",
            "Requirement already satisfied: pyyaml>=5.1 in /Users/jacob/.pyenv/versions/3.10.12/lib/python3.10/site-packages (from datasets) (6.0.1)\n",
            "Requirement already satisfied: aiohttp in /Users/jacob/.pyenv/versions/3.10.12/lib/python3.10/site-packages (from datasets) (3.8.6)\n",
            "Requirement already satisfied: tqdm>=4.62.1 in /Users/jacob/.pyenv/versions/3.10.12/lib/python3.10/site-packages (from datasets) (4.66.1)\n",
            "Requirement already satisfied: multiprocess in /Users/jacob/.pyenv/versions/3.10.12/lib/python3.10/site-packages (from datasets) (0.70.15)\n",
            "Requirement already satisfied: fsspec[http]<=2023.10.0,>=2023.1.0 in /Users/jacob/.pyenv/versions/3.10.12/lib/python3.10/site-packages (from datasets) (2023.10.0)\n",
            "Requirement already satisfied: packaging in /Users/jacob/.pyenv/versions/3.10.12/lib/python3.10/site-packages (from datasets) (23.2)\n",
            "Requirement already satisfied: xxhash in /Users/jacob/.pyenv/versions/3.10.12/lib/python3.10/site-packages (from datasets) (3.4.1)\n",
            "Requirement already satisfied: pyarrow>=8.0.0 in /Users/jacob/.pyenv/versions/3.10.12/lib/python3.10/site-packages (from datasets) (13.0.0)\n",
            "Requirement already satisfied: multidict<7.0,>=4.5 in /Users/jacob/.pyenv/versions/3.10.12/lib/python3.10/site-packages (from aiohttp->datasets) (6.0.4)\n",
            "Requirement already satisfied: aiosignal>=1.1.2 in /Users/jacob/.pyenv/versions/3.10.12/lib/python3.10/site-packages (from aiohttp->datasets) (1.3.1)\n",
            "Requirement already satisfied: attrs>=17.3.0 in /Users/jacob/.pyenv/versions/3.10.12/lib/python3.10/site-packages (from aiohttp->datasets) (23.1.0)\n",
            "Requirement already satisfied: frozenlist>=1.1.1 in /Users/jacob/.pyenv/versions/3.10.12/lib/python3.10/site-packages (from aiohttp->datasets) (1.4.0)\n",
            "Requirement already satisfied: async-timeout<5.0,>=4.0.0a3 in /Users/jacob/.pyenv/versions/3.10.12/lib/python3.10/site-packages (from aiohttp->datasets) (4.0.3)\n",
            "Requirement already satisfied: yarl<2.0,>=1.0 in /Users/jacob/.pyenv/versions/3.10.12/lib/python3.10/site-packages (from aiohttp->datasets) (1.9.2)\n",
            "Requirement already satisfied: charset-normalizer<4.0,>=2.0 in /Users/jacob/.pyenv/versions/3.10.12/lib/python3.10/site-packages (from aiohttp->datasets) (3.3.1)\n",
            "Requirement already satisfied: typing-extensions>=3.7.4.3 in /Users/jacob/.pyenv/versions/3.10.12/lib/python3.10/site-packages (from huggingface-hub<1.0.0,>=0.14.0->datasets) (4.8.0)\n",
            "Requirement already satisfied: filelock in /Users/jacob/.pyenv/versions/3.10.12/lib/python3.10/site-packages (from huggingface-hub<1.0.0,>=0.14.0->datasets) (3.13.0)\n",
            "Requirement already satisfied: idna<4,>=2.5 in /Users/jacob/.pyenv/versions/3.10.12/lib/python3.10/site-packages (from requests>=2.19.0->datasets) (3.4)\n",
            "Requirement already satisfied: urllib3<3,>=1.21.1 in /Users/jacob/.pyenv/versions/3.10.12/lib/python3.10/site-packages (from requests>=2.19.0->datasets) (2.0.7)\n",
            "Requirement already satisfied: certifi>=2017.4.17 in /Users/jacob/.pyenv/versions/3.10.12/lib/python3.10/site-packages (from requests>=2.19.0->datasets) (2023.7.22)\n",
            "Requirement already satisfied: python-dateutil>=2.8.2 in /Users/jacob/.pyenv/versions/3.10.12/lib/python3.10/site-packages (from pandas->datasets) (2.8.2)\n",
            "Requirement already satisfied: pytz>=2020.1 in /Users/jacob/.pyenv/versions/3.10.12/lib/python3.10/site-packages (from pandas->datasets) (2023.3.post1)\n",
            "Requirement already satisfied: tzdata>=2022.1 in /Users/jacob/.pyenv/versions/3.10.12/lib/python3.10/site-packages (from pandas->datasets) (2023.3)\n",
            "Requirement already satisfied: six>=1.5 in /Users/jacob/.pyenv/versions/3.10.12/lib/python3.10/site-packages (from python-dateutil>=2.8.2->pandas->datasets) (1.16.0)\n",
            "\n",
            "\u001b[1m[\u001b[0m\u001b[34;49mnotice\u001b[0m\u001b[1;39;49m]\u001b[0m\u001b[39;49m A new release of pip is available: \u001b[0m\u001b[31;49m23.0.1\u001b[0m\u001b[39;49m -> \u001b[0m\u001b[32;49m23.3.1\u001b[0m\n",
            "\u001b[1m[\u001b[0m\u001b[34;49mnotice\u001b[0m\u001b[1;39;49m]\u001b[0m\u001b[39;49m To update, run: \u001b[0m\u001b[32;49mpip install --upgrade pip\u001b[0m\n",
            "Requirement already satisfied: imageio-ffmpeg in /Users/jacob/.pyenv/versions/3.10.12/lib/python3.10/site-packages (0.4.9)\n",
            "Requirement already satisfied: setuptools in /Users/jacob/.pyenv/versions/3.10.12/lib/python3.10/site-packages (from imageio-ffmpeg) (65.5.0)\n",
            "\n",
            "\u001b[1m[\u001b[0m\u001b[34;49mnotice\u001b[0m\u001b[1;39;49m]\u001b[0m\u001b[39;49m A new release of pip is available: \u001b[0m\u001b[31;49m23.0.1\u001b[0m\u001b[39;49m -> \u001b[0m\u001b[32;49m23.3.1\u001b[0m\n",
            "\u001b[1m[\u001b[0m\u001b[34;49mnotice\u001b[0m\u001b[1;39;49m]\u001b[0m\u001b[39;49m To update, run: \u001b[0m\u001b[32;49mpip install --upgrade pip\u001b[0m\n",
            "Requirement already satisfied: colabgymrender==1.0.2 in /Users/jacob/.pyenv/versions/3.10.12/lib/python3.10/site-packages (1.0.2)\n",
            "Requirement already satisfied: pyvirtualdisplay in /Users/jacob/.pyenv/versions/3.10.12/lib/python3.10/site-packages (from colabgymrender==1.0.2) (3.0)\n",
            "Requirement already satisfied: moviepy in /Users/jacob/.pyenv/versions/3.10.12/lib/python3.10/site-packages (from colabgymrender==1.0.2) (1.0.3)\n",
            "Requirement already satisfied: gym in /Users/jacob/.pyenv/versions/3.10.12/lib/python3.10/site-packages (from colabgymrender==1.0.2) (0.26.2)\n",
            "Requirement already satisfied: opencv-python in /Users/jacob/.pyenv/versions/3.10.12/lib/python3.10/site-packages (from colabgymrender==1.0.2) (4.8.1.78)\n",
            "Requirement already satisfied: numpy>=1.18.0 in /Users/jacob/.pyenv/versions/3.10.12/lib/python3.10/site-packages (from gym->colabgymrender==1.0.2) (1.26.1)\n",
            "Requirement already satisfied: cloudpickle>=1.2.0 in /Users/jacob/.pyenv/versions/3.10.12/lib/python3.10/site-packages (from gym->colabgymrender==1.0.2) (3.0.0)\n",
            "Requirement already satisfied: gym-notices>=0.0.4 in /Users/jacob/.pyenv/versions/3.10.12/lib/python3.10/site-packages (from gym->colabgymrender==1.0.2) (0.0.8)\n",
            "Requirement already satisfied: decorator<5.0,>=4.0.2 in /Users/jacob/.pyenv/versions/3.10.12/lib/python3.10/site-packages (from moviepy->colabgymrender==1.0.2) (4.4.2)\n",
            "Requirement already satisfied: tqdm<5.0,>=4.11.2 in /Users/jacob/.pyenv/versions/3.10.12/lib/python3.10/site-packages (from moviepy->colabgymrender==1.0.2) (4.66.1)\n",
            "Requirement already satisfied: requests<3.0,>=2.8.1 in /Users/jacob/.pyenv/versions/3.10.12/lib/python3.10/site-packages (from moviepy->colabgymrender==1.0.2) (2.31.0)\n",
            "Requirement already satisfied: proglog<=1.0.0 in /Users/jacob/.pyenv/versions/3.10.12/lib/python3.10/site-packages (from moviepy->colabgymrender==1.0.2) (0.1.10)\n",
            "Requirement already satisfied: imageio<3.0,>=2.5 in /Users/jacob/.pyenv/versions/3.10.12/lib/python3.10/site-packages (from moviepy->colabgymrender==1.0.2) (2.31.6)\n",
            "Requirement already satisfied: imageio_ffmpeg>=0.2.0 in /Users/jacob/.pyenv/versions/3.10.12/lib/python3.10/site-packages (from moviepy->colabgymrender==1.0.2) (0.4.9)\n",
            "Requirement already satisfied: pillow<10.1.0,>=8.3.2 in /Users/jacob/.pyenv/versions/3.10.12/lib/python3.10/site-packages (from imageio<3.0,>=2.5->moviepy->colabgymrender==1.0.2) (10.0.1)\n",
            "Requirement already satisfied: setuptools in /Users/jacob/.pyenv/versions/3.10.12/lib/python3.10/site-packages (from imageio_ffmpeg>=0.2.0->moviepy->colabgymrender==1.0.2) (65.5.0)\n",
            "Requirement already satisfied: charset-normalizer<4,>=2 in /Users/jacob/.pyenv/versions/3.10.12/lib/python3.10/site-packages (from requests<3.0,>=2.8.1->moviepy->colabgymrender==1.0.2) (3.3.1)\n",
            "Requirement already satisfied: certifi>=2017.4.17 in /Users/jacob/.pyenv/versions/3.10.12/lib/python3.10/site-packages (from requests<3.0,>=2.8.1->moviepy->colabgymrender==1.0.2) (2023.7.22)\n",
            "Requirement already satisfied: idna<4,>=2.5 in /Users/jacob/.pyenv/versions/3.10.12/lib/python3.10/site-packages (from requests<3.0,>=2.8.1->moviepy->colabgymrender==1.0.2) (3.4)\n",
            "Requirement already satisfied: urllib3<3,>=1.21.1 in /Users/jacob/.pyenv/versions/3.10.12/lib/python3.10/site-packages (from requests<3.0,>=2.8.1->moviepy->colabgymrender==1.0.2) (2.0.7)\n",
            "\n",
            "\u001b[1m[\u001b[0m\u001b[34;49mnotice\u001b[0m\u001b[1;39;49m]\u001b[0m\u001b[39;49m A new release of pip is available: \u001b[0m\u001b[31;49m23.0.1\u001b[0m\u001b[39;49m -> \u001b[0m\u001b[32;49m23.3.1\u001b[0m\n",
            "\u001b[1m[\u001b[0m\u001b[34;49mnotice\u001b[0m\u001b[1;39;49m]\u001b[0m\u001b[39;49m To update, run: \u001b[0m\u001b[32;49mpip install --upgrade pip\u001b[0m\n",
            "Requirement already satisfied: xvfbwrapper in /Users/jacob/.pyenv/versions/3.10.12/lib/python3.10/site-packages (0.2.9)\n",
            "\n",
            "\u001b[1m[\u001b[0m\u001b[34;49mnotice\u001b[0m\u001b[1;39;49m]\u001b[0m\u001b[39;49m A new release of pip is available: \u001b[0m\u001b[31;49m23.0.1\u001b[0m\u001b[39;49m -> \u001b[0m\u001b[32;49m23.3.1\u001b[0m\n",
            "\u001b[1m[\u001b[0m\u001b[34;49mnotice\u001b[0m\u001b[1;39;49m]\u001b[0m\u001b[39;49m To update, run: \u001b[0m\u001b[32;49mpip install --upgrade pip\u001b[0m\n",
            "Collecting imageio==2.4.1\n",
            "  Using cached imageio-2.4.1.tar.gz (3.3 MB)\n",
            "  Preparing metadata (setup.py) ... \u001b[?25ldone\n",
            "\u001b[?25hRequirement already satisfied: numpy in /Users/jacob/.pyenv/versions/3.10.12/lib/python3.10/site-packages (from imageio==2.4.1) (1.26.1)\n",
            "Requirement already satisfied: pillow in /Users/jacob/.pyenv/versions/3.10.12/lib/python3.10/site-packages (from imageio==2.4.1) (10.0.1)\n",
            "Installing collected packages: imageio\n",
            "  Attempting uninstall: imageio\n",
            "    Found existing installation: imageio 2.31.6\n",
            "    Uninstalling imageio-2.31.6:\n",
            "      Successfully uninstalled imageio-2.31.6\n",
            "\u001b[33m  DEPRECATION: imageio is being installed using the legacy 'setup.py install' method, because it does not have a 'pyproject.toml' and the 'wheel' package is not installed. pip 23.1 will enforce this behaviour change. A possible replacement is to enable the '--use-pep517' option. Discussion can be found at https://github.com/pypa/pip/issues/8559\u001b[0m\u001b[33m\n",
            "\u001b[0m  Running setup.py install for imageio ... \u001b[?25ldone\n",
            "\u001b[?25h\u001b[31mERROR: pip's dependency resolver does not currently take into account all the packages that are installed. This behaviour is the source of the following dependency conflicts.\n",
            "moviepy 1.0.3 requires imageio<3.0,>=2.5, but you have imageio 2.4.1 which is incompatible.\n",
            "free-mujoco-py 2.1.6 requires imageio<3.0.0,>=2.9.0, but you have imageio 2.4.1 which is incompatible.\u001b[0m\u001b[31m\n",
            "\u001b[0mSuccessfully installed imageio-2.4.1\n",
            "\n",
            "\u001b[1m[\u001b[0m\u001b[34;49mnotice\u001b[0m\u001b[1;39;49m]\u001b[0m\u001b[39;49m A new release of pip is available: \u001b[0m\u001b[31;49m23.0.1\u001b[0m\u001b[39;49m -> \u001b[0m\u001b[32;49m23.3.1\u001b[0m\n",
            "\u001b[1m[\u001b[0m\u001b[34;49mnotice\u001b[0m\u001b[1;39;49m]\u001b[0m\u001b[39;49m To update, run: \u001b[0m\u001b[32;49mpip install --upgrade pip\u001b[0m\n",
            "Requirement already satisfied: imageio-ffmpeg in /Users/jacob/.pyenv/versions/3.10.12/lib/python3.10/site-packages (0.4.9)\n",
            "Requirement already satisfied: setuptools in /Users/jacob/.pyenv/versions/3.10.12/lib/python3.10/site-packages (from imageio-ffmpeg) (65.5.0)\n",
            "\n",
            "\u001b[1m[\u001b[0m\u001b[34;49mnotice\u001b[0m\u001b[1;39;49m]\u001b[0m\u001b[39;49m A new release of pip is available: \u001b[0m\u001b[31;49m23.0.1\u001b[0m\u001b[39;49m -> \u001b[0m\u001b[32;49m23.3.1\u001b[0m\n",
            "\u001b[1m[\u001b[0m\u001b[34;49mnotice\u001b[0m\u001b[1;39;49m]\u001b[0m\u001b[39;49m To update, run: \u001b[0m\u001b[32;49mpip install --upgrade pip\u001b[0m\n",
            "Requirement already satisfied: huggingface_hub in /Users/jacob/.pyenv/versions/3.10.12/lib/python3.10/site-packages (0.17.3)\n",
            "Requirement already satisfied: typing-extensions>=3.7.4.3 in /Users/jacob/.pyenv/versions/3.10.12/lib/python3.10/site-packages (from huggingface_hub) (4.8.0)\n",
            "Requirement already satisfied: requests in /Users/jacob/.pyenv/versions/3.10.12/lib/python3.10/site-packages (from huggingface_hub) (2.31.0)\n",
            "Requirement already satisfied: filelock in /Users/jacob/.pyenv/versions/3.10.12/lib/python3.10/site-packages (from huggingface_hub) (3.13.0)\n",
            "Requirement already satisfied: pyyaml>=5.1 in /Users/jacob/.pyenv/versions/3.10.12/lib/python3.10/site-packages (from huggingface_hub) (6.0.1)\n",
            "Requirement already satisfied: packaging>=20.9 in /Users/jacob/.pyenv/versions/3.10.12/lib/python3.10/site-packages (from huggingface_hub) (23.2)\n",
            "Requirement already satisfied: fsspec in /Users/jacob/.pyenv/versions/3.10.12/lib/python3.10/site-packages (from huggingface_hub) (2023.10.0)\n",
            "Requirement already satisfied: tqdm>=4.42.1 in /Users/jacob/.pyenv/versions/3.10.12/lib/python3.10/site-packages (from huggingface_hub) (4.66.1)\n",
            "Requirement already satisfied: certifi>=2017.4.17 in /Users/jacob/.pyenv/versions/3.10.12/lib/python3.10/site-packages (from requests->huggingface_hub) (2023.7.22)\n",
            "Requirement already satisfied: urllib3<3,>=1.21.1 in /Users/jacob/.pyenv/versions/3.10.12/lib/python3.10/site-packages (from requests->huggingface_hub) (2.0.7)\n",
            "Requirement already satisfied: charset-normalizer<4,>=2 in /Users/jacob/.pyenv/versions/3.10.12/lib/python3.10/site-packages (from requests->huggingface_hub) (3.3.1)\n",
            "Requirement already satisfied: idna<4,>=2.5 in /Users/jacob/.pyenv/versions/3.10.12/lib/python3.10/site-packages (from requests->huggingface_hub) (3.4)\n",
            "\n",
            "\u001b[1m[\u001b[0m\u001b[34;49mnotice\u001b[0m\u001b[1;39;49m]\u001b[0m\u001b[39;49m A new release of pip is available: \u001b[0m\u001b[31;49m23.0.1\u001b[0m\u001b[39;49m -> \u001b[0m\u001b[32;49m23.3.1\u001b[0m\n",
            "\u001b[1m[\u001b[0m\u001b[34;49mnotice\u001b[0m\u001b[1;39;49m]\u001b[0m\u001b[39;49m To update, run: \u001b[0m\u001b[32;49mpip install --upgrade pip\u001b[0m\n",
            "Requirement already satisfied: accelerate in /Users/jacob/.pyenv/versions/3.10.12/lib/python3.10/site-packages (0.24.1)\n",
            "Requirement already satisfied: packaging>=20.0 in /Users/jacob/.pyenv/versions/3.10.12/lib/python3.10/site-packages (from accelerate) (23.2)\n",
            "Requirement already satisfied: torch>=1.10.0 in /Users/jacob/.pyenv/versions/3.10.12/lib/python3.10/site-packages (from accelerate) (2.1.0)\n",
            "Requirement already satisfied: huggingface-hub in /Users/jacob/.pyenv/versions/3.10.12/lib/python3.10/site-packages (from accelerate) (0.17.3)\n",
            "Requirement already satisfied: psutil in /Users/jacob/.pyenv/versions/3.10.12/lib/python3.10/site-packages (from accelerate) (5.9.6)\n",
            "Requirement already satisfied: numpy>=1.17 in /Users/jacob/.pyenv/versions/3.10.12/lib/python3.10/site-packages (from accelerate) (1.26.1)\n",
            "Requirement already satisfied: pyyaml in /Users/jacob/.pyenv/versions/3.10.12/lib/python3.10/site-packages (from accelerate) (6.0.1)\n",
            "Requirement already satisfied: typing-extensions in /Users/jacob/.pyenv/versions/3.10.12/lib/python3.10/site-packages (from torch>=1.10.0->accelerate) (4.8.0)\n",
            "Requirement already satisfied: filelock in /Users/jacob/.pyenv/versions/3.10.12/lib/python3.10/site-packages (from torch>=1.10.0->accelerate) (3.13.0)\n",
            "Requirement already satisfied: networkx in /Users/jacob/.pyenv/versions/3.10.12/lib/python3.10/site-packages (from torch>=1.10.0->accelerate) (3.2.1)\n",
            "Requirement already satisfied: sympy in /Users/jacob/.pyenv/versions/3.10.12/lib/python3.10/site-packages (from torch>=1.10.0->accelerate) (1.12)\n",
            "Requirement already satisfied: jinja2 in /Users/jacob/.pyenv/versions/3.10.12/lib/python3.10/site-packages (from torch>=1.10.0->accelerate) (3.1.2)\n",
            "Requirement already satisfied: fsspec in /Users/jacob/.pyenv/versions/3.10.12/lib/python3.10/site-packages (from torch>=1.10.0->accelerate) (2023.10.0)\n",
            "Requirement already satisfied: requests in /Users/jacob/.pyenv/versions/3.10.12/lib/python3.10/site-packages (from huggingface-hub->accelerate) (2.31.0)\n",
            "Requirement already satisfied: tqdm>=4.42.1 in /Users/jacob/.pyenv/versions/3.10.12/lib/python3.10/site-packages (from huggingface-hub->accelerate) (4.66.1)\n",
            "Requirement already satisfied: MarkupSafe>=2.0 in /Users/jacob/.pyenv/versions/3.10.12/lib/python3.10/site-packages (from jinja2->torch>=1.10.0->accelerate) (2.1.3)\n",
            "Requirement already satisfied: idna<4,>=2.5 in /Users/jacob/.pyenv/versions/3.10.12/lib/python3.10/site-packages (from requests->huggingface-hub->accelerate) (3.4)\n",
            "Requirement already satisfied: urllib3<3,>=1.21.1 in /Users/jacob/.pyenv/versions/3.10.12/lib/python3.10/site-packages (from requests->huggingface-hub->accelerate) (2.0.7)\n",
            "Requirement already satisfied: charset-normalizer<4,>=2 in /Users/jacob/.pyenv/versions/3.10.12/lib/python3.10/site-packages (from requests->huggingface-hub->accelerate) (3.3.1)\n",
            "Requirement already satisfied: certifi>=2017.4.17 in /Users/jacob/.pyenv/versions/3.10.12/lib/python3.10/site-packages (from requests->huggingface-hub->accelerate) (2023.7.22)\n",
            "Requirement already satisfied: mpmath>=0.19 in /Users/jacob/.pyenv/versions/3.10.12/lib/python3.10/site-packages (from sympy->torch>=1.10.0->accelerate) (1.3.0)\n",
            "\n",
            "\u001b[1m[\u001b[0m\u001b[34;49mnotice\u001b[0m\u001b[1;39;49m]\u001b[0m\u001b[39;49m A new release of pip is available: \u001b[0m\u001b[31;49m23.0.1\u001b[0m\u001b[39;49m -> \u001b[0m\u001b[32;49m23.3.1\u001b[0m\n",
            "\u001b[1m[\u001b[0m\u001b[34;49mnotice\u001b[0m\u001b[1;39;49m]\u001b[0m\u001b[39;49m To update, run: \u001b[0m\u001b[32;49mpip install --upgrade pip\u001b[0m\n"
          ]
        }
      ],
      "source": [
        "!pip install free-mujoco-py\n",
        "!pip install transformers[torch]\n",
        "!pip install transformers\n",
        "!pip install datasets\n",
        "!pip install imageio-ffmpeg\n",
        "\n",
        "!pip install colabgymrender==1.0.2\n",
        "!pip install xvfbwrapper\n",
        "!pip install imageio==2.4.1\n",
        "!pip install imageio-ffmpeg\n",
        "!pip install huggingface_hub\n",
        "!pip install accelerate -U\n"
      ]
    },
    {
      "cell_type": "code",
      "execution_count": 3,
      "metadata": {
        "id": "DktITQNXTopc"
      },
      "outputs": [
        {
          "name": "stderr",
          "output_type": "stream",
          "text": [
            "/Users/jacob/.pyenv/versions/3.10.12/lib/python3.10/site-packages/tqdm/auto.py:21: TqdmWarning: IProgress not found. Please update jupyter and ipywidgets. See https://ipywidgets.readthedocs.io/en/stable/user_install.html\n",
            "  from .autonotebook import tqdm as notebook_tqdm\n"
          ]
        }
      ],
      "source": [
        "import os\n",
        "import random\n",
        "from dataclasses import dataclass\n",
        "\n",
        "import numpy as np\n",
        "import torch\n",
        "from datasets import load_dataset\n",
        "from transformers import Trainer, TrainingArguments\n",
        "from dt.configuration_decision_transformer import DecisionTransformerConfig\n",
        "from dt.modeling_decision_transformer import DecisionTransformerModel"
      ]
    },
    {
      "cell_type": "markdown",
      "metadata": {
        "id": "A1Ugq2POUmRA"
      },
      "source": [
        "### Step 3: Loading the dataset from the 🤗 Hub and instantiating the model\n",
        "\n",
        "We host a number of Offline RL Datasets on the hub. Today we will be training with the halfcheetah “expert” dataset, hosted here on hub.\n",
        "\n",
        "First we need to import the load_dataset function from the 🤗 datasets package and download the dataset to our machine."
      ]
    },
    {
      "cell_type": "code",
      "execution_count": 4,
      "metadata": {
        "id": "s3bLeIHqUwq7"
      },
      "outputs": [],
      "source": [
        "os.environ[\"WANDB_DISABLED\"] = \"true\" # we diable weights and biases logging for this tutorial\n",
        "dataset = load_dataset(\"edbeeching/decision_transformer_gym_replay\", \"halfcheetah-expert-v2\")\n"
      ]
    },
    {
      "cell_type": "code",
      "execution_count": 5,
      "metadata": {},
      "outputs": [
        {
          "data": {
            "text/plain": [
              "dict_keys(['observations', 'actions', 'rewards', 'dones'])"
            ]
          },
          "execution_count": 5,
          "metadata": {},
          "output_type": "execute_result"
        }
      ],
      "source": [
        "len(dataset['train'])\n",
        "dataset['train'][0].keys()"
      ]
    },
    {
      "cell_type": "markdown",
      "metadata": {
        "id": "ZFmTdHoHUD13"
      },
      "source": [
        "### Step 4: Defining a custom DataCollator for the transformers Trainer class"
      ]
    },
    {
      "cell_type": "code",
      "execution_count": 6,
      "metadata": {
        "id": "l1QzZHmPUM4p"
      },
      "outputs": [],
      "source": [
        "@dataclass\n",
        "class DecisionTransformerGymDataCollator:\n",
        "    return_tensors: str = \"pt\"\n",
        "    max_len: int = 20 #subsets of the episode we use for training\n",
        "    state_dim: int = 17  # size of state space\n",
        "    act_dim: int = 6  # size of action space\n",
        "    max_ep_len: int = 1000 # max episode length in the dataset\n",
        "    scale: float = 1000.0  # normalization of rewards/returns\n",
        "    state_mean: np.array = None  # to store state means\n",
        "    state_std: np.array = None  # to store state stds\n",
        "    p_sample: np.array = None  # a distribution to take account trajectory lengths\n",
        "    n_traj: int = 0 # to store the number of trajectories in the dataset\n",
        "\n",
        "    def __init__(self, dataset) -> None:\n",
        "        self.act_dim = len(dataset[0][\"actions\"][0])\n",
        "        self.state_dim = len(dataset[0][\"observations\"][0])\n",
        "        self.dataset = dataset\n",
        "        # calculate dataset stats for normalization of states\n",
        "        states = []\n",
        "        traj_lens = []\n",
        "        for obs in dataset[\"observations\"]:\n",
        "            states.extend(obs)\n",
        "            traj_lens.append(len(obs))\n",
        "        self.n_traj = len(traj_lens)\n",
        "        states = np.vstack(states)\n",
        "        self.state_mean, self.state_std = np.mean(states, axis=0), np.std(states, axis=0) + 1e-6\n",
        "        \n",
        "        traj_lens = np.array(traj_lens)\n",
        "        self.p_sample = traj_lens / sum(traj_lens)\n",
        "\n",
        "    def _discount_cumsum(self, x, gamma):\n",
        "        discount_cumsum = np.zeros_like(x)\n",
        "        discount_cumsum[-1] = x[-1]\n",
        "        for t in reversed(range(x.shape[0] - 1)):\n",
        "            discount_cumsum[t] = x[t] + gamma * discount_cumsum[t + 1]\n",
        "        return discount_cumsum\n",
        "\n",
        "    def __call__(self, features):\n",
        "        batch_size = len(features)\n",
        "        # this is a bit of a hack to be able to sample of a non-uniform distribution\n",
        "        batch_inds = np.random.choice(\n",
        "            np.arange(self.n_traj),\n",
        "            size=batch_size,\n",
        "            replace=True,\n",
        "            p=self.p_sample,  # reweights so we sample according to timesteps\n",
        "        )\n",
        "        # a batch of dataset features\n",
        "        s, a, r, d, rtg, timesteps, mask = [], [], [], [], [], [], []\n",
        "        \n",
        "        for ind in batch_inds:\n",
        "            # for feature in features:\n",
        "            feature = self.dataset[int(ind)]\n",
        "            si = random.randint(0, len(feature[\"rewards\"]) - 1)\n",
        "\n",
        "            # get sequences from dataset\n",
        "            s.append(np.array(feature[\"observations\"][si : si + self.max_len]).reshape(1, -1, self.state_dim))\n",
        "            a.append(np.array(feature[\"actions\"][si : si + self.max_len]).reshape(1, -1, self.act_dim))\n",
        "            r.append(np.array(feature[\"rewards\"][si : si + self.max_len]).reshape(1, -1, 1))\n",
        "\n",
        "            d.append(np.array(feature[\"dones\"][si : si + self.max_len]).reshape(1, -1))\n",
        "            timesteps.append(np.arange(si, si + s[-1].shape[1]).reshape(1, -1))\n",
        "            timesteps[-1][timesteps[-1] >= self.max_ep_len] = self.max_ep_len - 1  # padding cutoff\n",
        "            rtg.append(\n",
        "                self._discount_cumsum(np.array(feature[\"rewards\"][si:]), gamma=1.0)[\n",
        "                    : s[-1].shape[1]   # TODO check the +1 removed here\n",
        "                ].reshape(1, -1, 1)\n",
        "            )\n",
        "            if rtg[-1].shape[1] < s[-1].shape[1]:\n",
        "                print(\"if true\")\n",
        "                rtg[-1] = np.concatenate([rtg[-1], np.zeros((1, 1, 1))], axis=1)\n",
        "\n",
        "            # padding and state + reward normalization\n",
        "            tlen = s[-1].shape[1]\n",
        "            s[-1] = np.concatenate([np.zeros((1, self.max_len - tlen, self.state_dim)), s[-1]], axis=1)\n",
        "            s[-1] = (s[-1] - self.state_mean) / self.state_std\n",
        "            a[-1] = np.concatenate(\n",
        "                [np.ones((1, self.max_len - tlen, self.act_dim)) * -10.0, a[-1]],\n",
        "                axis=1,\n",
        "            )\n",
        "            r[-1] = np.concatenate([np.zeros((1, self.max_len - tlen, 1)), r[-1]], axis=1)\n",
        "            d[-1] = np.concatenate([np.ones((1, self.max_len - tlen)) * 2, d[-1]], axis=1)\n",
        "            rtg[-1] = np.concatenate([np.zeros((1, self.max_len - tlen, 1)), rtg[-1]], axis=1) / self.scale\n",
        "            timesteps[-1] = np.concatenate([np.zeros((1, self.max_len - tlen)), timesteps[-1]], axis=1)\n",
        "            mask.append(np.concatenate([np.zeros((1, self.max_len - tlen)), np.ones((1, tlen))], axis=1))\n",
        "\n",
        "        s = torch.from_numpy(np.concatenate(s, axis=0)).float()\n",
        "        a = torch.from_numpy(np.concatenate(a, axis=0)).float()\n",
        "        r = torch.from_numpy(np.concatenate(r, axis=0)).float()\n",
        "        d = torch.from_numpy(np.concatenate(d, axis=0))\n",
        "        rtg = torch.from_numpy(np.concatenate(rtg, axis=0)).float()\n",
        "        timesteps = torch.from_numpy(np.concatenate(timesteps, axis=0)).long()\n",
        "        mask = torch.from_numpy(np.concatenate(mask, axis=0)).float()\n",
        "\n",
        "        return {\n",
        "            \"states\": s,\n",
        "            \"actions\": a,\n",
        "            \"rewards\": r,\n",
        "            \"returns_to_go\": rtg,\n",
        "            \"timesteps\": timesteps,\n",
        "            \"attention_mask\": mask,\n",
        "        }"
      ]
    },
    {
      "cell_type": "markdown",
      "metadata": {
        "id": "bmTRGPKYUVFG"
      },
      "source": [
        "### Step 5: Extending the Decision Transformer Model to include a loss function\n",
        "\n",
        "In order to train the model with the 🤗 trainer class, we first need to ensure the dictionary it returns contains a loss, in this case L-2 norm of the models action predictions and the targets."
      ]
    },
    {
      "cell_type": "code",
      "execution_count": 7,
      "metadata": {
        "id": "bwZp7hhFUh5u"
      },
      "outputs": [],
      "source": [
        "class TrainableDT(DecisionTransformerModel):\n",
        "    def __init__(self, config):\n",
        "        super().__init__(config)\n",
        "\n",
        "    def forward(self, **kwargs):\n",
        "        output = super().forward(**kwargs)\n",
        "        # add the DT loss\n",
        "        action_preds = output[1]\n",
        "        action_targets = kwargs[\"actions\"]\n",
        "        attention_mask = kwargs[\"attention_mask\"]\n",
        "        act_dim = action_preds.shape[2]\n",
        "        action_preds = action_preds.reshape(-1, act_dim)[attention_mask.reshape(-1) > 0]\n",
        "        action_targets = action_targets.reshape(-1, act_dim)[attention_mask.reshape(-1) > 0]\n",
        "        \n",
        "        loss = torch.mean((action_preds - action_targets) ** 2)\n",
        "\n",
        "        return {\"loss\": loss}\n",
        "\n",
        "    def original_forward(self, **kwargs):\n",
        "        return super().forward(**kwargs)"
      ]
    },
    {
      "cell_type": "code",
      "execution_count": 8,
      "metadata": {
        "id": "zIJCY3b3pQAh"
      },
      "outputs": [],
      "source": [
        "collator = DecisionTransformerGymDataCollator(dataset[\"train\"])\n",
        "\n",
        "config = DecisionTransformerConfig(state_dim=collator.state_dim, act_dim=collator.act_dim)\n",
        "model = TrainableDT(config)"
      ]
    },
    {
      "cell_type": "markdown",
      "metadata": {
        "id": "nJJ2mr_cU4eE"
      },
      "source": [
        "### Step 6: Defining the training hyperparameters and training the model\n",
        "Here, we define the training hyperparameters and our Trainer class that we'll use to train our Decision Transformer model.\n",
        "\n",
        "This step takes about an hour, so you may leave it running. Note the authors train for at least 3 hours, so the results presented here are not as performant as the models hosted on the 🤗 hub."
      ]
    },
    {
      "cell_type": "code",
      "execution_count": 9,
      "metadata": {
        "id": "nNzzKWuuU9I4"
      },
      "outputs": [
        {
          "name": "stderr",
          "output_type": "stream",
          "text": [
            "Using the `WANDB_DISABLED` environment variable is deprecated and will be removed in v5. Use the --report_to flag to control the integrations used for logging result (for instance --report_to none).\n",
            " 10%|█         | 194/1920 [10:46<1:35:43,  3.33s/it]"
          ]
        },
        {
          "ename": "KeyboardInterrupt",
          "evalue": "",
          "output_type": "error",
          "traceback": [
            "\u001b[0;31m---------------------------------------------------------------------------\u001b[0m",
            "\u001b[0;31mKeyboardInterrupt\u001b[0m                         Traceback (most recent call last)",
            "\u001b[1;32m/Users/jacob/Documents/T/hfdt/train-decision-transformers.ipynb Cell 17\u001b[0m line \u001b[0;36m2\n\u001b[1;32m      <a href='vscode-notebook-cell:/Users/jacob/Documents/T/hfdt/train-decision-transformers.ipynb#X30sZmlsZQ%3D%3D?line=0'>1</a>\u001b[0m training_args \u001b[39m=\u001b[39m TrainingArguments(\n\u001b[1;32m      <a href='vscode-notebook-cell:/Users/jacob/Documents/T/hfdt/train-decision-transformers.ipynb#X30sZmlsZQ%3D%3D?line=1'>2</a>\u001b[0m     output_dir\u001b[39m=\u001b[39m\u001b[39m\"\u001b[39m\u001b[39moutput/\u001b[39m\u001b[39m\"\u001b[39m,\n\u001b[1;32m      <a href='vscode-notebook-cell:/Users/jacob/Documents/T/hfdt/train-decision-transformers.ipynb#X30sZmlsZQ%3D%3D?line=2'>3</a>\u001b[0m     remove_unused_columns\u001b[39m=\u001b[39m\u001b[39mFalse\u001b[39;00m,\n\u001b[0;32m   (...)\u001b[0m\n\u001b[1;32m     <a href='vscode-notebook-cell:/Users/jacob/Documents/T/hfdt/train-decision-transformers.ipynb#X30sZmlsZQ%3D%3D?line=9'>10</a>\u001b[0m     max_grad_norm\u001b[39m=\u001b[39m\u001b[39m0.25\u001b[39m,\n\u001b[1;32m     <a href='vscode-notebook-cell:/Users/jacob/Documents/T/hfdt/train-decision-transformers.ipynb#X30sZmlsZQ%3D%3D?line=10'>11</a>\u001b[0m )\n\u001b[1;32m     <a href='vscode-notebook-cell:/Users/jacob/Documents/T/hfdt/train-decision-transformers.ipynb#X30sZmlsZQ%3D%3D?line=12'>13</a>\u001b[0m trainer \u001b[39m=\u001b[39m Trainer(\n\u001b[1;32m     <a href='vscode-notebook-cell:/Users/jacob/Documents/T/hfdt/train-decision-transformers.ipynb#X30sZmlsZQ%3D%3D?line=13'>14</a>\u001b[0m     model\u001b[39m=\u001b[39mmodel,\n\u001b[1;32m     <a href='vscode-notebook-cell:/Users/jacob/Documents/T/hfdt/train-decision-transformers.ipynb#X30sZmlsZQ%3D%3D?line=14'>15</a>\u001b[0m     args\u001b[39m=\u001b[39mtraining_args,\n\u001b[1;32m     <a href='vscode-notebook-cell:/Users/jacob/Documents/T/hfdt/train-decision-transformers.ipynb#X30sZmlsZQ%3D%3D?line=15'>16</a>\u001b[0m     train_dataset\u001b[39m=\u001b[39mdataset[\u001b[39m\"\u001b[39m\u001b[39mtrain\u001b[39m\u001b[39m\"\u001b[39m],\n\u001b[1;32m     <a href='vscode-notebook-cell:/Users/jacob/Documents/T/hfdt/train-decision-transformers.ipynb#X30sZmlsZQ%3D%3D?line=16'>17</a>\u001b[0m     data_collator\u001b[39m=\u001b[39mcollator,\n\u001b[1;32m     <a href='vscode-notebook-cell:/Users/jacob/Documents/T/hfdt/train-decision-transformers.ipynb#X30sZmlsZQ%3D%3D?line=17'>18</a>\u001b[0m )\n\u001b[0;32m---> <a href='vscode-notebook-cell:/Users/jacob/Documents/T/hfdt/train-decision-transformers.ipynb#X30sZmlsZQ%3D%3D?line=19'>20</a>\u001b[0m trainer\u001b[39m.\u001b[39;49mtrain()\n",
            "File \u001b[0;32m~/.pyenv/versions/3.10.12/lib/python3.10/site-packages/transformers/trainer.py:1591\u001b[0m, in \u001b[0;36mTrainer.train\u001b[0;34m(self, resume_from_checkpoint, trial, ignore_keys_for_eval, **kwargs)\u001b[0m\n\u001b[1;32m   1589\u001b[0m         hf_hub_utils\u001b[39m.\u001b[39menable_progress_bars()\n\u001b[1;32m   1590\u001b[0m \u001b[39melse\u001b[39;00m:\n\u001b[0;32m-> 1591\u001b[0m     \u001b[39mreturn\u001b[39;00m inner_training_loop(\n\u001b[1;32m   1592\u001b[0m         args\u001b[39m=\u001b[39;49margs,\n\u001b[1;32m   1593\u001b[0m         resume_from_checkpoint\u001b[39m=\u001b[39;49mresume_from_checkpoint,\n\u001b[1;32m   1594\u001b[0m         trial\u001b[39m=\u001b[39;49mtrial,\n\u001b[1;32m   1595\u001b[0m         ignore_keys_for_eval\u001b[39m=\u001b[39;49mignore_keys_for_eval,\n\u001b[1;32m   1596\u001b[0m     )\n",
            "File \u001b[0;32m~/.pyenv/versions/3.10.12/lib/python3.10/site-packages/transformers/trainer.py:1870\u001b[0m, in \u001b[0;36mTrainer._inner_training_loop\u001b[0;34m(self, batch_size, args, resume_from_checkpoint, trial, ignore_keys_for_eval)\u001b[0m\n\u001b[1;32m   1867\u001b[0m     rng_to_sync \u001b[39m=\u001b[39m \u001b[39mTrue\u001b[39;00m\n\u001b[1;32m   1869\u001b[0m step \u001b[39m=\u001b[39m \u001b[39m-\u001b[39m\u001b[39m1\u001b[39m\n\u001b[0;32m-> 1870\u001b[0m \u001b[39mfor\u001b[39;00m step, inputs \u001b[39min\u001b[39;00m \u001b[39menumerate\u001b[39m(epoch_iterator):\n\u001b[1;32m   1871\u001b[0m     total_batched_samples \u001b[39m+\u001b[39m\u001b[39m=\u001b[39m \u001b[39m1\u001b[39m\n\u001b[1;32m   1872\u001b[0m     \u001b[39mif\u001b[39;00m rng_to_sync:\n",
            "File \u001b[0;32m~/.pyenv/versions/3.10.12/lib/python3.10/site-packages/accelerate/data_loader.py:461\u001b[0m, in \u001b[0;36mDataLoaderShard.__iter__\u001b[0;34m(self)\u001b[0m\n\u001b[1;32m    459\u001b[0m \u001b[39mif\u001b[39;00m \u001b[39mself\u001b[39m\u001b[39m.\u001b[39mdevice \u001b[39mis\u001b[39;00m \u001b[39mnot\u001b[39;00m \u001b[39mNone\u001b[39;00m:\n\u001b[1;32m    460\u001b[0m     current_batch \u001b[39m=\u001b[39m send_to_device(current_batch, \u001b[39mself\u001b[39m\u001b[39m.\u001b[39mdevice)\n\u001b[0;32m--> 461\u001b[0m next_batch \u001b[39m=\u001b[39m \u001b[39mnext\u001b[39;49m(dataloader_iter)\n\u001b[1;32m    462\u001b[0m \u001b[39mif\u001b[39;00m batch_index \u001b[39m>\u001b[39m\u001b[39m=\u001b[39m \u001b[39mself\u001b[39m\u001b[39m.\u001b[39mskip_batches:\n\u001b[1;32m    463\u001b[0m     \u001b[39myield\u001b[39;00m current_batch\n",
            "File \u001b[0;32m~/.pyenv/versions/3.10.12/lib/python3.10/site-packages/torch/utils/data/dataloader.py:630\u001b[0m, in \u001b[0;36m_BaseDataLoaderIter.__next__\u001b[0;34m(self)\u001b[0m\n\u001b[1;32m    627\u001b[0m \u001b[39mif\u001b[39;00m \u001b[39mself\u001b[39m\u001b[39m.\u001b[39m_sampler_iter \u001b[39mis\u001b[39;00m \u001b[39mNone\u001b[39;00m:\n\u001b[1;32m    628\u001b[0m     \u001b[39m# TODO(https://github.com/pytorch/pytorch/issues/76750)\u001b[39;00m\n\u001b[1;32m    629\u001b[0m     \u001b[39mself\u001b[39m\u001b[39m.\u001b[39m_reset()  \u001b[39m# type: ignore[call-arg]\u001b[39;00m\n\u001b[0;32m--> 630\u001b[0m data \u001b[39m=\u001b[39m \u001b[39mself\u001b[39;49m\u001b[39m.\u001b[39;49m_next_data()\n\u001b[1;32m    631\u001b[0m \u001b[39mself\u001b[39m\u001b[39m.\u001b[39m_num_yielded \u001b[39m+\u001b[39m\u001b[39m=\u001b[39m \u001b[39m1\u001b[39m\n\u001b[1;32m    632\u001b[0m \u001b[39mif\u001b[39;00m \u001b[39mself\u001b[39m\u001b[39m.\u001b[39m_dataset_kind \u001b[39m==\u001b[39m _DatasetKind\u001b[39m.\u001b[39mIterable \u001b[39mand\u001b[39;00m \\\n\u001b[1;32m    633\u001b[0m         \u001b[39mself\u001b[39m\u001b[39m.\u001b[39m_IterableDataset_len_called \u001b[39mis\u001b[39;00m \u001b[39mnot\u001b[39;00m \u001b[39mNone\u001b[39;00m \u001b[39mand\u001b[39;00m \\\n\u001b[1;32m    634\u001b[0m         \u001b[39mself\u001b[39m\u001b[39m.\u001b[39m_num_yielded \u001b[39m>\u001b[39m \u001b[39mself\u001b[39m\u001b[39m.\u001b[39m_IterableDataset_len_called:\n",
            "File \u001b[0;32m~/.pyenv/versions/3.10.12/lib/python3.10/site-packages/torch/utils/data/dataloader.py:674\u001b[0m, in \u001b[0;36m_SingleProcessDataLoaderIter._next_data\u001b[0;34m(self)\u001b[0m\n\u001b[1;32m    672\u001b[0m \u001b[39mdef\u001b[39;00m \u001b[39m_next_data\u001b[39m(\u001b[39mself\u001b[39m):\n\u001b[1;32m    673\u001b[0m     index \u001b[39m=\u001b[39m \u001b[39mself\u001b[39m\u001b[39m.\u001b[39m_next_index()  \u001b[39m# may raise StopIteration\u001b[39;00m\n\u001b[0;32m--> 674\u001b[0m     data \u001b[39m=\u001b[39m \u001b[39mself\u001b[39;49m\u001b[39m.\u001b[39;49m_dataset_fetcher\u001b[39m.\u001b[39;49mfetch(index)  \u001b[39m# may raise StopIteration\u001b[39;00m\n\u001b[1;32m    675\u001b[0m     \u001b[39mif\u001b[39;00m \u001b[39mself\u001b[39m\u001b[39m.\u001b[39m_pin_memory:\n\u001b[1;32m    676\u001b[0m         data \u001b[39m=\u001b[39m _utils\u001b[39m.\u001b[39mpin_memory\u001b[39m.\u001b[39mpin_memory(data, \u001b[39mself\u001b[39m\u001b[39m.\u001b[39m_pin_memory_device)\n",
            "File \u001b[0;32m~/.pyenv/versions/3.10.12/lib/python3.10/site-packages/torch/utils/data/_utils/fetch.py:54\u001b[0m, in \u001b[0;36m_MapDatasetFetcher.fetch\u001b[0;34m(self, possibly_batched_index)\u001b[0m\n\u001b[1;32m     52\u001b[0m \u001b[39melse\u001b[39;00m:\n\u001b[1;32m     53\u001b[0m     data \u001b[39m=\u001b[39m \u001b[39mself\u001b[39m\u001b[39m.\u001b[39mdataset[possibly_batched_index]\n\u001b[0;32m---> 54\u001b[0m \u001b[39mreturn\u001b[39;00m \u001b[39mself\u001b[39;49m\u001b[39m.\u001b[39;49mcollate_fn(data)\n",
            "\u001b[1;32m/Users/jacob/Documents/T/hfdt/train-decision-transformers.ipynb Cell 17\u001b[0m line \u001b[0;36m5\n\u001b[1;32m     <a href='vscode-notebook-cell:/Users/jacob/Documents/T/hfdt/train-decision-transformers.ipynb#X30sZmlsZQ%3D%3D?line=47'>48</a>\u001b[0m s, a, r, d, rtg, timesteps, mask \u001b[39m=\u001b[39m [], [], [], [], [], [], []\n\u001b[1;32m     <a href='vscode-notebook-cell:/Users/jacob/Documents/T/hfdt/train-decision-transformers.ipynb#X30sZmlsZQ%3D%3D?line=49'>50</a>\u001b[0m \u001b[39mfor\u001b[39;00m ind \u001b[39min\u001b[39;00m batch_inds:\n\u001b[1;32m     <a href='vscode-notebook-cell:/Users/jacob/Documents/T/hfdt/train-decision-transformers.ipynb#X30sZmlsZQ%3D%3D?line=50'>51</a>\u001b[0m     \u001b[39m# for feature in features:\u001b[39;00m\n\u001b[0;32m---> <a href='vscode-notebook-cell:/Users/jacob/Documents/T/hfdt/train-decision-transformers.ipynb#X30sZmlsZQ%3D%3D?line=51'>52</a>\u001b[0m     feature \u001b[39m=\u001b[39m \u001b[39mself\u001b[39;49m\u001b[39m.\u001b[39;49mdataset[\u001b[39mint\u001b[39;49m(ind)]\n\u001b[1;32m     <a href='vscode-notebook-cell:/Users/jacob/Documents/T/hfdt/train-decision-transformers.ipynb#X30sZmlsZQ%3D%3D?line=52'>53</a>\u001b[0m     si \u001b[39m=\u001b[39m random\u001b[39m.\u001b[39mrandint(\u001b[39m0\u001b[39m, \u001b[39mlen\u001b[39m(feature[\u001b[39m\"\u001b[39m\u001b[39mrewards\u001b[39m\u001b[39m\"\u001b[39m]) \u001b[39m-\u001b[39m \u001b[39m1\u001b[39m)\n\u001b[1;32m     <a href='vscode-notebook-cell:/Users/jacob/Documents/T/hfdt/train-decision-transformers.ipynb#X30sZmlsZQ%3D%3D?line=54'>55</a>\u001b[0m     \u001b[39m# get sequences from dataset\u001b[39;00m\n",
            "File \u001b[0;32m~/.pyenv/versions/3.10.12/lib/python3.10/site-packages/datasets/arrow_dataset.py:2803\u001b[0m, in \u001b[0;36mDataset.__getitem__\u001b[0;34m(self, key)\u001b[0m\n\u001b[1;32m   2801\u001b[0m \u001b[39mdef\u001b[39;00m \u001b[39m__getitem__\u001b[39m(\u001b[39mself\u001b[39m, key):  \u001b[39m# noqa: F811\u001b[39;00m\n\u001b[1;32m   2802\u001b[0m \u001b[39m    \u001b[39m\u001b[39m\"\"\"Can be used to index columns (by string names) or rows (by integer index or iterable of indices or bools).\"\"\"\u001b[39;00m\n\u001b[0;32m-> 2803\u001b[0m     \u001b[39mreturn\u001b[39;00m \u001b[39mself\u001b[39;49m\u001b[39m.\u001b[39;49m_getitem(key)\n",
            "File \u001b[0;32m~/.pyenv/versions/3.10.12/lib/python3.10/site-packages/datasets/arrow_dataset.py:2788\u001b[0m, in \u001b[0;36mDataset._getitem\u001b[0;34m(self, key, **kwargs)\u001b[0m\n\u001b[1;32m   2786\u001b[0m formatter \u001b[39m=\u001b[39m get_formatter(format_type, features\u001b[39m=\u001b[39m\u001b[39mself\u001b[39m\u001b[39m.\u001b[39m_info\u001b[39m.\u001b[39mfeatures, \u001b[39m*\u001b[39m\u001b[39m*\u001b[39mformat_kwargs)\n\u001b[1;32m   2787\u001b[0m pa_subtable \u001b[39m=\u001b[39m query_table(\u001b[39mself\u001b[39m\u001b[39m.\u001b[39m_data, key, indices\u001b[39m=\u001b[39m\u001b[39mself\u001b[39m\u001b[39m.\u001b[39m_indices \u001b[39mif\u001b[39;00m \u001b[39mself\u001b[39m\u001b[39m.\u001b[39m_indices \u001b[39mis\u001b[39;00m \u001b[39mnot\u001b[39;00m \u001b[39mNone\u001b[39;00m \u001b[39melse\u001b[39;00m \u001b[39mNone\u001b[39;00m)\n\u001b[0;32m-> 2788\u001b[0m formatted_output \u001b[39m=\u001b[39m format_table(\n\u001b[1;32m   2789\u001b[0m     pa_subtable, key, formatter\u001b[39m=\u001b[39;49mformatter, format_columns\u001b[39m=\u001b[39;49mformat_columns, output_all_columns\u001b[39m=\u001b[39;49moutput_all_columns\n\u001b[1;32m   2790\u001b[0m )\n\u001b[1;32m   2791\u001b[0m \u001b[39mreturn\u001b[39;00m formatted_output\n",
            "File \u001b[0;32m~/.pyenv/versions/3.10.12/lib/python3.10/site-packages/datasets/formatting/formatting.py:629\u001b[0m, in \u001b[0;36mformat_table\u001b[0;34m(table, key, formatter, format_columns, output_all_columns)\u001b[0m\n\u001b[1;32m    627\u001b[0m python_formatter \u001b[39m=\u001b[39m PythonFormatter(features\u001b[39m=\u001b[39m\u001b[39mNone\u001b[39;00m)\n\u001b[1;32m    628\u001b[0m \u001b[39mif\u001b[39;00m format_columns \u001b[39mis\u001b[39;00m \u001b[39mNone\u001b[39;00m:\n\u001b[0;32m--> 629\u001b[0m     \u001b[39mreturn\u001b[39;00m formatter(pa_table, query_type\u001b[39m=\u001b[39;49mquery_type)\n\u001b[1;32m    630\u001b[0m \u001b[39melif\u001b[39;00m query_type \u001b[39m==\u001b[39m \u001b[39m\"\u001b[39m\u001b[39mcolumn\u001b[39m\u001b[39m\"\u001b[39m:\n\u001b[1;32m    631\u001b[0m     \u001b[39mif\u001b[39;00m key \u001b[39min\u001b[39;00m format_columns:\n",
            "File \u001b[0;32m~/.pyenv/versions/3.10.12/lib/python3.10/site-packages/datasets/formatting/formatting.py:396\u001b[0m, in \u001b[0;36mFormatter.__call__\u001b[0;34m(self, pa_table, query_type)\u001b[0m\n\u001b[1;32m    394\u001b[0m \u001b[39mdef\u001b[39;00m \u001b[39m__call__\u001b[39m(\u001b[39mself\u001b[39m, pa_table: pa\u001b[39m.\u001b[39mTable, query_type: \u001b[39mstr\u001b[39m) \u001b[39m-\u001b[39m\u001b[39m>\u001b[39m Union[RowFormat, ColumnFormat, BatchFormat]:\n\u001b[1;32m    395\u001b[0m     \u001b[39mif\u001b[39;00m query_type \u001b[39m==\u001b[39m \u001b[39m\"\u001b[39m\u001b[39mrow\u001b[39m\u001b[39m\"\u001b[39m:\n\u001b[0;32m--> 396\u001b[0m         \u001b[39mreturn\u001b[39;00m \u001b[39mself\u001b[39;49m\u001b[39m.\u001b[39;49mformat_row(pa_table)\n\u001b[1;32m    397\u001b[0m     \u001b[39melif\u001b[39;00m query_type \u001b[39m==\u001b[39m \u001b[39m\"\u001b[39m\u001b[39mcolumn\u001b[39m\u001b[39m\"\u001b[39m:\n\u001b[1;32m    398\u001b[0m         \u001b[39mreturn\u001b[39;00m \u001b[39mself\u001b[39m\u001b[39m.\u001b[39mformat_column(pa_table)\n",
            "File \u001b[0;32m~/.pyenv/versions/3.10.12/lib/python3.10/site-packages/datasets/formatting/formatting.py:436\u001b[0m, in \u001b[0;36mPythonFormatter.format_row\u001b[0;34m(self, pa_table)\u001b[0m\n\u001b[1;32m    434\u001b[0m \u001b[39mif\u001b[39;00m \u001b[39mself\u001b[39m\u001b[39m.\u001b[39mlazy:\n\u001b[1;32m    435\u001b[0m     \u001b[39mreturn\u001b[39;00m LazyRow(pa_table, \u001b[39mself\u001b[39m)\n\u001b[0;32m--> 436\u001b[0m row \u001b[39m=\u001b[39m \u001b[39mself\u001b[39;49m\u001b[39m.\u001b[39;49mpython_arrow_extractor()\u001b[39m.\u001b[39;49mextract_row(pa_table)\n\u001b[1;32m    437\u001b[0m row \u001b[39m=\u001b[39m \u001b[39mself\u001b[39m\u001b[39m.\u001b[39mpython_features_decoder\u001b[39m.\u001b[39mdecode_row(row)\n\u001b[1;32m    438\u001b[0m \u001b[39mreturn\u001b[39;00m row\n",
            "File \u001b[0;32m~/.pyenv/versions/3.10.12/lib/python3.10/site-packages/datasets/formatting/formatting.py:144\u001b[0m, in \u001b[0;36mPythonArrowExtractor.extract_row\u001b[0;34m(self, pa_table)\u001b[0m\n\u001b[1;32m    143\u001b[0m \u001b[39mdef\u001b[39;00m \u001b[39mextract_row\u001b[39m(\u001b[39mself\u001b[39m, pa_table: pa\u001b[39m.\u001b[39mTable) \u001b[39m-\u001b[39m\u001b[39m>\u001b[39m \u001b[39mdict\u001b[39m:\n\u001b[0;32m--> 144\u001b[0m     \u001b[39mreturn\u001b[39;00m _unnest(pa_table\u001b[39m.\u001b[39;49mto_pydict())\n",
            "\u001b[0;31mKeyboardInterrupt\u001b[0m: "
          ]
        }
      ],
      "source": [
        "training_args = TrainingArguments(\n",
        "    output_dir=\"output/\",\n",
        "    remove_unused_columns=False,\n",
        "    num_train_epochs=120,\n",
        "    per_device_train_batch_size=64,\n",
        "    learning_rate=1e-4,\n",
        "    weight_decay=1e-4,\n",
        "    warmup_ratio=0.1,\n",
        "    optim=\"adamw_torch\",\n",
        "    max_grad_norm=0.25,\n",
        ")\n",
        "\n",
        "trainer = Trainer(\n",
        "    model=model,\n",
        "    args=training_args,\n",
        "    train_dataset=dataset[\"train\"],\n",
        "    data_collator=collator,\n",
        ")\n",
        "\n",
        "trainer.train()"
      ]
    },
    {
      "cell_type": "markdown",
      "metadata": {
        "id": "sNaj6bOkp3bt"
      },
      "source": [
        "### Step 7: Visualize the performance of the agent"
      ]
    },
    {
      "cell_type": "code",
      "execution_count": 10,
      "metadata": {
        "id": "y0NhIn4up26c"
      },
      "outputs": [
        {
          "name": "stdout",
          "output_type": "stream",
          "text": [
            "Compiling /Users/jacob/.pyenv/versions/3.10.12/lib/python3.10/site-packages/mujoco_py/cymj.pyx because it changed.\n",
            "[1/1] Cythonizing /Users/jacob/.pyenv/versions/3.10.12/lib/python3.10/site-packages/mujoco_py/cymj.pyx\n",
            "running build_ext\n",
            "building 'mujoco_py.cymj' extension\n",
            "creating /Users/jacob/.pyenv/versions/3.10.12/lib/python3.10/site-packages/mujoco_py/generated/_pyxbld_2.0.2.13_310_macextensionbuilder\n",
            "creating /Users/jacob/.pyenv/versions/3.10.12/lib/python3.10/site-packages/mujoco_py/generated/_pyxbld_2.0.2.13_310_macextensionbuilder/temp.macosx-13.1-x86_64-cpython-310\n",
            "creating /Users/jacob/.pyenv/versions/3.10.12/lib/python3.10/site-packages/mujoco_py/generated/_pyxbld_2.0.2.13_310_macextensionbuilder/temp.macosx-13.1-x86_64-cpython-310/Users\n",
            "creating /Users/jacob/.pyenv/versions/3.10.12/lib/python3.10/site-packages/mujoco_py/generated/_pyxbld_2.0.2.13_310_macextensionbuilder/temp.macosx-13.1-x86_64-cpython-310/Users/jacob\n",
            "creating /Users/jacob/.pyenv/versions/3.10.12/lib/python3.10/site-packages/mujoco_py/generated/_pyxbld_2.0.2.13_310_macextensionbuilder/temp.macosx-13.1-x86_64-cpython-310/Users/jacob/.pyenv\n",
            "creating /Users/jacob/.pyenv/versions/3.10.12/lib/python3.10/site-packages/mujoco_py/generated/_pyxbld_2.0.2.13_310_macextensionbuilder/temp.macosx-13.1-x86_64-cpython-310/Users/jacob/.pyenv/versions\n",
            "creating /Users/jacob/.pyenv/versions/3.10.12/lib/python3.10/site-packages/mujoco_py/generated/_pyxbld_2.0.2.13_310_macextensionbuilder/temp.macosx-13.1-x86_64-cpython-310/Users/jacob/.pyenv/versions/3.10.12\n",
            "creating /Users/jacob/.pyenv/versions/3.10.12/lib/python3.10/site-packages/mujoco_py/generated/_pyxbld_2.0.2.13_310_macextensionbuilder/temp.macosx-13.1-x86_64-cpython-310/Users/jacob/.pyenv/versions/3.10.12/lib\n",
            "creating /Users/jacob/.pyenv/versions/3.10.12/lib/python3.10/site-packages/mujoco_py/generated/_pyxbld_2.0.2.13_310_macextensionbuilder/temp.macosx-13.1-x86_64-cpython-310/Users/jacob/.pyenv/versions/3.10.12/lib/python3.10\n",
            "creating /Users/jacob/.pyenv/versions/3.10.12/lib/python3.10/site-packages/mujoco_py/generated/_pyxbld_2.0.2.13_310_macextensionbuilder/temp.macosx-13.1-x86_64-cpython-310/Users/jacob/.pyenv/versions/3.10.12/lib/python3.10/site-packages\n",
            "creating /Users/jacob/.pyenv/versions/3.10.12/lib/python3.10/site-packages/mujoco_py/generated/_pyxbld_2.0.2.13_310_macextensionbuilder/temp.macosx-13.1-x86_64-cpython-310/Users/jacob/.pyenv/versions/3.10.12/lib/python3.10/site-packages/mujoco_py\n",
            "creating /Users/jacob/.pyenv/versions/3.10.12/lib/python3.10/site-packages/mujoco_py/generated/_pyxbld_2.0.2.13_310_macextensionbuilder/temp.macosx-13.1-x86_64-cpython-310/Users/jacob/.pyenv/versions/3.10.12/lib/python3.10/site-packages/mujoco_py/gl\n",
            "/usr/local/bin/gcc-9 -Wno-unused-result -Wsign-compare -Wunreachable-code -DNDEBUG -g -fwrapv -O3 -Wall -DONMAC -I/Users/jacob/.pyenv/versions/3.10.12/lib/python3.10/site-packages/mujoco_py -I/Users/jacob/.pyenv/versions/3.10.12/lib/python3.10/site-packages/mujoco_py/binaries/macos/mujoco210/include -I/Users/jacob/.pyenv/versions/3.10.12/lib/python3.10/site-packages/numpy/core/include -I/Users/jacob/.pyenv/versions/3.10.12/include/python3.10 -c /Users/jacob/.pyenv/versions/3.10.12/lib/python3.10/site-packages/mujoco_py/cymj.c -o /Users/jacob/.pyenv/versions/3.10.12/lib/python3.10/site-packages/mujoco_py/generated/_pyxbld_2.0.2.13_310_macextensionbuilder/temp.macosx-13.1-x86_64-cpython-310/Users/jacob/.pyenv/versions/3.10.12/lib/python3.10/site-packages/mujoco_py/cymj.o -fopenmp -w\n"
          ]
        },
        {
          "name": "stderr",
          "output_type": "stream",
          "text": [
            "gcc-9: warning: could not understand version 13.1\n"
          ]
        },
        {
          "name": "stdout",
          "output_type": "stream",
          "text": [
            "/usr/local/bin/gcc-9 -Wno-unused-result -Wsign-compare -Wunreachable-code -DNDEBUG -g -fwrapv -O3 -Wall -DONMAC -I/Users/jacob/.pyenv/versions/3.10.12/lib/python3.10/site-packages/mujoco_py -I/Users/jacob/.pyenv/versions/3.10.12/lib/python3.10/site-packages/mujoco_py/binaries/macos/mujoco210/include -I/Users/jacob/.pyenv/versions/3.10.12/lib/python3.10/site-packages/numpy/core/include -I/Users/jacob/.pyenv/versions/3.10.12/include/python3.10 -c /Users/jacob/.pyenv/versions/3.10.12/lib/python3.10/site-packages/mujoco_py/gl/dummyshim.c -o /Users/jacob/.pyenv/versions/3.10.12/lib/python3.10/site-packages/mujoco_py/generated/_pyxbld_2.0.2.13_310_macextensionbuilder/temp.macosx-13.1-x86_64-cpython-310/Users/jacob/.pyenv/versions/3.10.12/lib/python3.10/site-packages/mujoco_py/gl/dummyshim.o -fopenmp -w\n",
            "creating /Users/jacob/.pyenv/versions/3.10.12/lib/python3.10/site-packages/mujoco_py/generated/_pyxbld_2.0.2.13_310_macextensionbuilder/lib.macosx-13.1-x86_64-cpython-310\n",
            "creating /Users/jacob/.pyenv/versions/3.10.12/lib/python3.10/site-packages/mujoco_py/generated/_pyxbld_2.0.2.13_310_macextensionbuilder/lib.macosx-13.1-x86_64-cpython-310/mujoco_py\n",
            "/usr/local/bin/gcc-9 -bundle -undefined dynamic_lookup -L/usr/local/opt/readline/lib -L/usr/local/opt/readline/lib -L/Users/jacob/.pyenv/versions/3.10.12/lib -Wl,-rpath,/Users/jacob/.pyenv/versions/3.10.12/lib -L/Library/Developer/CommandLineTools/SDKs/MacOSX13.1.sdk/usr/lib -L/usr/local/opt/readline/lib -L/usr/local/opt/readline/lib -L/Users/jacob/.pyenv/versions/3.10.12/lib -Wl,-rpath,/Users/jacob/.pyenv/versions/3.10.12/lib -L/Library/Developer/CommandLineTools/SDKs/MacOSX13.1.sdk/usr/lib /Users/jacob/.pyenv/versions/3.10.12/lib/python3.10/site-packages/mujoco_py/generated/_pyxbld_2.0.2.13_310_macextensionbuilder/temp.macosx-13.1-x86_64-cpython-310/Users/jacob/.pyenv/versions/3.10.12/lib/python3.10/site-packages/mujoco_py/cymj.o /Users/jacob/.pyenv/versions/3.10.12/lib/python3.10/site-packages/mujoco_py/generated/_pyxbld_2.0.2.13_310_macextensionbuilder/temp.macosx-13.1-x86_64-cpython-310/Users/jacob/.pyenv/versions/3.10.12/lib/python3.10/site-packages/mujoco_py/gl/dummyshim.o -L/Users/jacob/.pyenv/versions/3.10.12/lib/python3.10/site-packages/mujoco_py/binaries/macos/mujoco210/bin -L/Users/jacob/.pyenv/versions/3.10.12/lib -Wl,-rpath,/Users/jacob/.pyenv/versions/3.10.12/lib/python3.10/site-packages/mujoco_py/binaries/macos/mujoco210/bin -lmujoco210 -lglfw.3 -o /Users/jacob/.pyenv/versions/3.10.12/lib/python3.10/site-packages/mujoco_py/generated/_pyxbld_2.0.2.13_310_macextensionbuilder/lib.macosx-13.1-x86_64-cpython-310/mujoco_py/cymj.cpython-310-darwin.so -fopenmp\n"
          ]
        },
        {
          "name": "stderr",
          "output_type": "stream",
          "text": [
            "gcc-9: warning: could not understand version 13.1\n",
            "gcc-9: warning: could not understand version 13.1\n",
            "ld: -rpath can only be used when targeting Mac OS X 10.5 or later\n",
            "collect2: error: ld returned 1 exit status\n"
          ]
        },
        {
          "ename": "LinkError",
          "evalue": "command '/usr/local/bin/gcc-9' failed with exit code 1",
          "output_type": "error",
          "traceback": [
            "\u001b[0;31m---------------------------------------------------------------------------\u001b[0m",
            "\u001b[0;31mDistutilsExecError\u001b[0m                        Traceback (most recent call last)",
            "File \u001b[0;32m~/.pyenv/versions/3.10.12/lib/python3.10/site-packages/setuptools/_distutils/unixccompiler.py:267\u001b[0m, in \u001b[0;36mUnixCCompiler.link\u001b[0;34m(self, target_desc, objects, output_filename, output_dir, libraries, library_dirs, runtime_library_dirs, export_symbols, debug, extra_preargs, extra_postargs, build_temp, target_lang)\u001b[0m\n\u001b[1;32m    265\u001b[0m     linker \u001b[39m=\u001b[39m compiler_fixup(linker, ld_args)\n\u001b[0;32m--> 267\u001b[0m     \u001b[39mself\u001b[39;49m\u001b[39m.\u001b[39;49mspawn(linker \u001b[39m+\u001b[39;49m ld_args)\n\u001b[1;32m    268\u001b[0m \u001b[39mexcept\u001b[39;00m DistutilsExecError \u001b[39mas\u001b[39;00m msg:\n",
            "File \u001b[0;32m~/.pyenv/versions/3.10.12/lib/python3.10/site-packages/setuptools/_distutils/ccompiler.py:1007\u001b[0m, in \u001b[0;36mCCompiler.spawn\u001b[0;34m(self, cmd, **kwargs)\u001b[0m\n\u001b[1;32m   1006\u001b[0m \u001b[39mdef\u001b[39;00m \u001b[39mspawn\u001b[39m(\u001b[39mself\u001b[39m, cmd, \u001b[39m*\u001b[39m\u001b[39m*\u001b[39mkwargs):\n\u001b[0;32m-> 1007\u001b[0m     spawn(cmd, dry_run\u001b[39m=\u001b[39;49m\u001b[39mself\u001b[39;49m\u001b[39m.\u001b[39;49mdry_run, \u001b[39m*\u001b[39;49m\u001b[39m*\u001b[39;49mkwargs)\n",
            "File \u001b[0;32m~/.pyenv/versions/3.10.12/lib/python3.10/site-packages/setuptools/_distutils/spawn.py:70\u001b[0m, in \u001b[0;36mspawn\u001b[0;34m(cmd, search_path, verbose, dry_run, env)\u001b[0m\n\u001b[1;32m     69\u001b[0m     cmd \u001b[39m=\u001b[39m cmd[\u001b[39m0\u001b[39m]\n\u001b[0;32m---> 70\u001b[0m \u001b[39mraise\u001b[39;00m DistutilsExecError(\n\u001b[1;32m     71\u001b[0m     \u001b[39m\"\u001b[39m\u001b[39mcommand \u001b[39m\u001b[39m{!r}\u001b[39;00m\u001b[39m failed with exit code \u001b[39m\u001b[39m{}\u001b[39;00m\u001b[39m\"\u001b[39m\u001b[39m.\u001b[39mformat(cmd, exitcode)\n\u001b[1;32m     72\u001b[0m )\n",
            "\u001b[0;31mDistutilsExecError\u001b[0m: command '/usr/local/bin/gcc-9' failed with exit code 1",
            "\nDuring handling of the above exception, another exception occurred:\n",
            "\u001b[0;31mLinkError\u001b[0m                                 Traceback (most recent call last)",
            "\u001b[1;32m/Users/jacob/Documents/T/hfdt/train-decision-transformers.ipynb Cell 19\u001b[0m line \u001b[0;36m1\n\u001b[0;32m----> <a href='vscode-notebook-cell:/Users/jacob/Documents/T/hfdt/train-decision-transformers.ipynb#X32sZmlsZQ%3D%3D?line=0'>1</a>\u001b[0m \u001b[39mimport\u001b[39;00m \u001b[39mmujoco_py\u001b[39;00m\n\u001b[1;32m      <a href='vscode-notebook-cell:/Users/jacob/Documents/T/hfdt/train-decision-transformers.ipynb#X32sZmlsZQ%3D%3D?line=1'>2</a>\u001b[0m \u001b[39mimport\u001b[39;00m \u001b[39mgym\u001b[39;00m\n\u001b[1;32m      <a href='vscode-notebook-cell:/Users/jacob/Documents/T/hfdt/train-decision-transformers.ipynb#X32sZmlsZQ%3D%3D?line=3'>4</a>\u001b[0m \u001b[39mfrom\u001b[39;00m \u001b[39mcolabgymrender\u001b[39;00m\u001b[39m.\u001b[39;00m\u001b[39mrecorder\u001b[39;00m \u001b[39mimport\u001b[39;00m Recorder\n",
            "File \u001b[0;32m~/.pyenv/versions/3.10.12/lib/python3.10/site-packages/mujoco_py/__init__.py:15\u001b[0m\n\u001b[1;32m     12\u001b[0m     os\u001b[39m.\u001b[39menviron[\u001b[39m\"\u001b[39m\u001b[39mLD_LIBRARY_PATH\u001b[39m\u001b[39m\"\u001b[39m] \u001b[39m=\u001b[39m os\u001b[39m.\u001b[39mpath\u001b[39m.\u001b[39mjoin(mujoco_py\u001b[39m.\u001b[39m__path__[\u001b[39m0\u001b[39m], \u001b[39m\"\u001b[39m\u001b[39mbinaries\u001b[39m\u001b[39m\"\u001b[39m, \u001b[39m\"\u001b[39m\u001b[39mwindows\u001b[39m\u001b[39m\"\u001b[39m, \u001b[39m\"\u001b[39m\u001b[39mmujoco210\u001b[39m\u001b[39m\"\u001b[39m, \u001b[39m\"\u001b[39m\u001b[39mbin\u001b[39m\u001b[39m\"\u001b[39m)\n\u001b[1;32m     14\u001b[0m \u001b[39m#!/usr/bin/env python\u001b[39;00m\n\u001b[0;32m---> 15\u001b[0m \u001b[39mfrom\u001b[39;00m \u001b[39mmujoco_py\u001b[39;00m\u001b[39m.\u001b[39;00m\u001b[39mbuilder\u001b[39;00m \u001b[39mimport\u001b[39;00m cymj, ignore_mujoco_warnings, functions, MujocoException\n\u001b[1;32m     16\u001b[0m \u001b[39mfrom\u001b[39;00m \u001b[39mmujoco_py\u001b[39;00m\u001b[39m.\u001b[39;00m\u001b[39mgenerated\u001b[39;00m \u001b[39mimport\u001b[39;00m const\n\u001b[1;32m     17\u001b[0m \u001b[39mfrom\u001b[39;00m \u001b[39mmujoco_py\u001b[39;00m\u001b[39m.\u001b[39;00m\u001b[39mmjrenderpool\u001b[39;00m \u001b[39mimport\u001b[39;00m MjRenderPool\n",
            "File \u001b[0;32m~/.pyenv/versions/3.10.12/lib/python3.10/site-packages/mujoco_py/builder.py:499\u001b[0m\n\u001b[1;32m    495\u001b[0m     \u001b[39mreturn\u001b[39;00m module\u001b[39m.\u001b[39mlib\u001b[39m.\u001b[39m__fun\n\u001b[1;32m    498\u001b[0m mujoco_path \u001b[39m=\u001b[39m discover_mujoco()\n\u001b[0;32m--> 499\u001b[0m cymj \u001b[39m=\u001b[39m load_cython_ext(mujoco_path)\n\u001b[1;32m    502\u001b[0m \u001b[39m# Trick to expose all mj* functions from mujoco in mujoco_py.*\u001b[39;00m\n\u001b[1;32m    503\u001b[0m \u001b[39mclass\u001b[39;00m \u001b[39mdict2\u001b[39;00m(\u001b[39mobject\u001b[39m):\n",
            "File \u001b[0;32m~/.pyenv/versions/3.10.12/lib/python3.10/site-packages/mujoco_py/builder.py:105\u001b[0m, in \u001b[0;36mload_cython_ext\u001b[0;34m(mujoco_path)\u001b[0m\n\u001b[1;32m    103\u001b[0m             \u001b[39mprint\u001b[39m(\u001b[39m\"\u001b[39m\u001b[39mImport error. Trying to rebuild mujoco_py.\u001b[39m\u001b[39m\"\u001b[39m)\n\u001b[1;32m    104\u001b[0m     \u001b[39mif\u001b[39;00m mod \u001b[39mis\u001b[39;00m \u001b[39mNone\u001b[39;00m:\n\u001b[0;32m--> 105\u001b[0m         cext_so_path \u001b[39m=\u001b[39m builder\u001b[39m.\u001b[39;49mbuild()\n\u001b[1;32m    106\u001b[0m         mod \u001b[39m=\u001b[39m load_dynamic_ext(\u001b[39m'\u001b[39m\u001b[39mcymj\u001b[39m\u001b[39m'\u001b[39m, cext_so_path)\n\u001b[1;32m    108\u001b[0m \u001b[39mreturn\u001b[39;00m mod\n",
            "File \u001b[0;32m~/.pyenv/versions/3.10.12/lib/python3.10/site-packages/mujoco_py/builder.py:221\u001b[0m, in \u001b[0;36mMujocoExtensionBuilder.build\u001b[0;34m(self)\u001b[0m\n\u001b[1;32m    220\u001b[0m \u001b[39mdef\u001b[39;00m \u001b[39mbuild\u001b[39m(\u001b[39mself\u001b[39m):\n\u001b[0;32m--> 221\u001b[0m     built_so_file_path \u001b[39m=\u001b[39m \u001b[39mself\u001b[39;49m\u001b[39m.\u001b[39;49m_build_impl()\n\u001b[1;32m    222\u001b[0m     new_so_file_path \u001b[39m=\u001b[39m \u001b[39mself\u001b[39m\u001b[39m.\u001b[39mget_so_file_path()\n\u001b[1;32m    223\u001b[0m     move(built_so_file_path, new_so_file_path)\n",
            "File \u001b[0;32m~/.pyenv/versions/3.10.12/lib/python3.10/site-packages/mujoco_py/builder.py:335\u001b[0m, in \u001b[0;36mMacExtensionBuilder._build_impl\u001b[0;34m(self)\u001b[0m\n\u001b[1;32m    328\u001b[0m         \u001b[39mraise\u001b[39;00m \u001b[39mRuntimeError\u001b[39;00m(\n\u001b[1;32m    329\u001b[0m             \u001b[39m'\u001b[39m\u001b[39mCould not find GCC executable.\u001b[39m\u001b[39m\\n\u001b[39;00m\u001b[39m\\n\u001b[39;00m\u001b[39m'\u001b[39m\n\u001b[1;32m    330\u001b[0m             \u001b[39m'\u001b[39m\u001b[39mHINT: On OS X, install GCC with \u001b[39m\u001b[39m'\u001b[39m\n\u001b[1;32m    331\u001b[0m             \u001b[39m'\u001b[39m\u001b[39m`brew install gcc`. or \u001b[39m\u001b[39m'\u001b[39m\n\u001b[1;32m    332\u001b[0m             \u001b[39m'\u001b[39m\u001b[39m`port install gcc`.\u001b[39m\u001b[39m'\u001b[39m)\n\u001b[1;32m    333\u001b[0m     os\u001b[39m.\u001b[39menviron[\u001b[39m'\u001b[39m\u001b[39mCC\u001b[39m\u001b[39m'\u001b[39m] \u001b[39m=\u001b[39m available_c_compiler\n\u001b[0;32m--> 335\u001b[0m     so_file_path \u001b[39m=\u001b[39m \u001b[39msuper\u001b[39;49m()\u001b[39m.\u001b[39;49m_build_impl()\n\u001b[1;32m    336\u001b[0m     \u001b[39mdel\u001b[39;00m os\u001b[39m.\u001b[39menviron[\u001b[39m'\u001b[39m\u001b[39mCC\u001b[39m\u001b[39m'\u001b[39m]\n\u001b[1;32m    337\u001b[0m \u001b[39melse\u001b[39;00m:  \u001b[39m# User-directed c compiler\u001b[39;00m\n",
            "File \u001b[0;32m~/.pyenv/versions/3.10.12/lib/python3.10/site-packages/mujoco_py/builder.py:244\u001b[0m, in \u001b[0;36mMujocoExtensionBuilder._build_impl\u001b[0;34m(self)\u001b[0m\n\u001b[1;32m    242\u001b[0m dist\u001b[39m.\u001b[39mparse_command_line()\n\u001b[1;32m    243\u001b[0m obj_build_ext \u001b[39m=\u001b[39m dist\u001b[39m.\u001b[39mget_command_obj(\u001b[39m\"\u001b[39m\u001b[39mbuild_ext\u001b[39m\u001b[39m\"\u001b[39m)\n\u001b[0;32m--> 244\u001b[0m dist\u001b[39m.\u001b[39;49mrun_commands()\n\u001b[1;32m    245\u001b[0m built_so_file_path, \u001b[39m=\u001b[39m obj_build_ext\u001b[39m.\u001b[39mget_outputs()\n\u001b[1;32m    246\u001b[0m \u001b[39mreturn\u001b[39;00m built_so_file_path\n",
            "File \u001b[0;32m~/.pyenv/versions/3.10.12/lib/python3.10/site-packages/setuptools/_distutils/dist.py:968\u001b[0m, in \u001b[0;36mDistribution.run_commands\u001b[0;34m(self)\u001b[0m\n\u001b[1;32m    963\u001b[0m \u001b[39m\u001b[39m\u001b[39m\"\"\"Run each command that was seen on the setup script command line.\u001b[39;00m\n\u001b[1;32m    964\u001b[0m \u001b[39mUses the list of commands found and cache of command objects\u001b[39;00m\n\u001b[1;32m    965\u001b[0m \u001b[39mcreated by 'get_command_obj()'.\u001b[39;00m\n\u001b[1;32m    966\u001b[0m \u001b[39m\"\"\"\u001b[39;00m\n\u001b[1;32m    967\u001b[0m \u001b[39mfor\u001b[39;00m cmd \u001b[39min\u001b[39;00m \u001b[39mself\u001b[39m\u001b[39m.\u001b[39mcommands:\n\u001b[0;32m--> 968\u001b[0m     \u001b[39mself\u001b[39;49m\u001b[39m.\u001b[39;49mrun_command(cmd)\n",
            "File \u001b[0;32m~/.pyenv/versions/3.10.12/lib/python3.10/site-packages/setuptools/dist.py:1217\u001b[0m, in \u001b[0;36mDistribution.run_command\u001b[0;34m(self, command)\u001b[0m\n\u001b[1;32m   1213\u001b[0m \u001b[39mself\u001b[39m\u001b[39m.\u001b[39mset_defaults()\n\u001b[1;32m   1214\u001b[0m \u001b[39m# Postpone defaults until all explicit configuration is considered\u001b[39;00m\n\u001b[1;32m   1215\u001b[0m \u001b[39m# (setup() args, config files, command line and plugins)\u001b[39;00m\n\u001b[0;32m-> 1217\u001b[0m \u001b[39msuper\u001b[39;49m()\u001b[39m.\u001b[39;49mrun_command(command)\n",
            "File \u001b[0;32m~/.pyenv/versions/3.10.12/lib/python3.10/site-packages/setuptools/_distutils/dist.py:987\u001b[0m, in \u001b[0;36mDistribution.run_command\u001b[0;34m(self, command)\u001b[0m\n\u001b[1;32m    985\u001b[0m cmd_obj \u001b[39m=\u001b[39m \u001b[39mself\u001b[39m\u001b[39m.\u001b[39mget_command_obj(command)\n\u001b[1;32m    986\u001b[0m cmd_obj\u001b[39m.\u001b[39mensure_finalized()\n\u001b[0;32m--> 987\u001b[0m cmd_obj\u001b[39m.\u001b[39;49mrun()\n\u001b[1;32m    988\u001b[0m \u001b[39mself\u001b[39m\u001b[39m.\u001b[39mhave_run[command] \u001b[39m=\u001b[39m \u001b[39m1\u001b[39m\n",
            "File \u001b[0;32m~/.pyenv/versions/3.10.12/lib/python3.10/site-packages/Cython/Distutils/old_build_ext.py:186\u001b[0m, in \u001b[0;36mold_build_ext.run\u001b[0;34m(self)\u001b[0m\n\u001b[1;32m    182\u001b[0m \u001b[39mif\u001b[39;00m \u001b[39mself\u001b[39m\u001b[39m.\u001b[39mcython_gdb \u001b[39mor\u001b[39;00m [\u001b[39m1\u001b[39m \u001b[39mfor\u001b[39;00m ext \u001b[39min\u001b[39;00m \u001b[39mself\u001b[39m\u001b[39m.\u001b[39mextensions\n\u001b[1;32m    183\u001b[0m                              \u001b[39mif\u001b[39;00m \u001b[39mgetattr\u001b[39m(ext, \u001b[39m'\u001b[39m\u001b[39mcython_gdb\u001b[39m\u001b[39m'\u001b[39m, \u001b[39mFalse\u001b[39;00m)]:\n\u001b[1;32m    184\u001b[0m     optimization\u001b[39m.\u001b[39mdisable_optimization()\n\u001b[0;32m--> 186\u001b[0m _build_ext\u001b[39m.\u001b[39;49mbuild_ext\u001b[39m.\u001b[39;49mrun(\u001b[39mself\u001b[39;49m)\n",
            "File \u001b[0;32m~/.pyenv/versions/3.10.12/lib/python3.10/site-packages/setuptools/_distutils/command/build_ext.py:346\u001b[0m, in \u001b[0;36mbuild_ext.run\u001b[0;34m(self)\u001b[0m\n\u001b[1;32m    343\u001b[0m     \u001b[39mself\u001b[39m\u001b[39m.\u001b[39mcompiler\u001b[39m.\u001b[39mset_link_objects(\u001b[39mself\u001b[39m\u001b[39m.\u001b[39mlink_objects)\n\u001b[1;32m    345\u001b[0m \u001b[39m# Now actually compile and link everything.\u001b[39;00m\n\u001b[0;32m--> 346\u001b[0m \u001b[39mself\u001b[39;49m\u001b[39m.\u001b[39;49mbuild_extensions()\n",
            "File \u001b[0;32m~/.pyenv/versions/3.10.12/lib/python3.10/site-packages/mujoco_py/builder.py:144\u001b[0m, in \u001b[0;36mcustom_build_ext.build_extensions\u001b[0;34m(self)\u001b[0m\n\u001b[1;32m    142\u001b[0m \u001b[39mexcept\u001b[39;00m (\u001b[39mAttributeError\u001b[39;00m, \u001b[39mValueError\u001b[39;00m):\n\u001b[1;32m    143\u001b[0m     \u001b[39mpass\u001b[39;00m\n\u001b[0;32m--> 144\u001b[0m build_ext\u001b[39m.\u001b[39;49mbuild_extensions(\u001b[39mself\u001b[39;49m)\n",
            "File \u001b[0;32m~/.pyenv/versions/3.10.12/lib/python3.10/site-packages/Cython/Distutils/old_build_ext.py:195\u001b[0m, in \u001b[0;36mold_build_ext.build_extensions\u001b[0;34m(self)\u001b[0m\n\u001b[1;32m    193\u001b[0m     ext\u001b[39m.\u001b[39msources \u001b[39m=\u001b[39m \u001b[39mself\u001b[39m\u001b[39m.\u001b[39mcython_sources(ext\u001b[39m.\u001b[39msources, ext)\n\u001b[1;32m    194\u001b[0m \u001b[39m# Call original build_extensions\u001b[39;00m\n\u001b[0;32m--> 195\u001b[0m _build_ext\u001b[39m.\u001b[39;49mbuild_ext\u001b[39m.\u001b[39;49mbuild_extensions(\u001b[39mself\u001b[39;49m)\n",
            "File \u001b[0;32m~/.pyenv/versions/3.10.12/lib/python3.10/site-packages/setuptools/_distutils/command/build_ext.py:466\u001b[0m, in \u001b[0;36mbuild_ext.build_extensions\u001b[0;34m(self)\u001b[0m\n\u001b[1;32m    464\u001b[0m     \u001b[39mself\u001b[39m\u001b[39m.\u001b[39m_build_extensions_parallel()\n\u001b[1;32m    465\u001b[0m \u001b[39melse\u001b[39;00m:\n\u001b[0;32m--> 466\u001b[0m     \u001b[39mself\u001b[39;49m\u001b[39m.\u001b[39;49m_build_extensions_serial()\n",
            "File \u001b[0;32m~/.pyenv/versions/3.10.12/lib/python3.10/site-packages/setuptools/_distutils/command/build_ext.py:492\u001b[0m, in \u001b[0;36mbuild_ext._build_extensions_serial\u001b[0;34m(self)\u001b[0m\n\u001b[1;32m    490\u001b[0m \u001b[39mfor\u001b[39;00m ext \u001b[39min\u001b[39;00m \u001b[39mself\u001b[39m\u001b[39m.\u001b[39mextensions:\n\u001b[1;32m    491\u001b[0m     \u001b[39mwith\u001b[39;00m \u001b[39mself\u001b[39m\u001b[39m.\u001b[39m_filter_build_errors(ext):\n\u001b[0;32m--> 492\u001b[0m         \u001b[39mself\u001b[39;49m\u001b[39m.\u001b[39;49mbuild_extension(ext)\n",
            "File \u001b[0;32m~/.pyenv/versions/3.10.12/lib/python3.10/site-packages/setuptools/_distutils/command/build_ext.py:571\u001b[0m, in \u001b[0;36mbuild_ext.build_extension\u001b[0;34m(self, ext)\u001b[0m\n\u001b[1;32m    568\u001b[0m \u001b[39m# Detect target language, if not provided\u001b[39;00m\n\u001b[1;32m    569\u001b[0m language \u001b[39m=\u001b[39m ext\u001b[39m.\u001b[39mlanguage \u001b[39mor\u001b[39;00m \u001b[39mself\u001b[39m\u001b[39m.\u001b[39mcompiler\u001b[39m.\u001b[39mdetect_language(sources)\n\u001b[0;32m--> 571\u001b[0m \u001b[39mself\u001b[39;49m\u001b[39m.\u001b[39;49mcompiler\u001b[39m.\u001b[39;49mlink_shared_object(\n\u001b[1;32m    572\u001b[0m     objects,\n\u001b[1;32m    573\u001b[0m     ext_path,\n\u001b[1;32m    574\u001b[0m     libraries\u001b[39m=\u001b[39;49m\u001b[39mself\u001b[39;49m\u001b[39m.\u001b[39;49mget_libraries(ext),\n\u001b[1;32m    575\u001b[0m     library_dirs\u001b[39m=\u001b[39;49mext\u001b[39m.\u001b[39;49mlibrary_dirs,\n\u001b[1;32m    576\u001b[0m     runtime_library_dirs\u001b[39m=\u001b[39;49mext\u001b[39m.\u001b[39;49mruntime_library_dirs,\n\u001b[1;32m    577\u001b[0m     extra_postargs\u001b[39m=\u001b[39;49mextra_args,\n\u001b[1;32m    578\u001b[0m     export_symbols\u001b[39m=\u001b[39;49m\u001b[39mself\u001b[39;49m\u001b[39m.\u001b[39;49mget_export_symbols(ext),\n\u001b[1;32m    579\u001b[0m     debug\u001b[39m=\u001b[39;49m\u001b[39mself\u001b[39;49m\u001b[39m.\u001b[39;49mdebug,\n\u001b[1;32m    580\u001b[0m     build_temp\u001b[39m=\u001b[39;49m\u001b[39mself\u001b[39;49m\u001b[39m.\u001b[39;49mbuild_temp,\n\u001b[1;32m    581\u001b[0m     target_lang\u001b[39m=\u001b[39;49mlanguage,\n\u001b[1;32m    582\u001b[0m )\n",
            "File \u001b[0;32m~/.pyenv/versions/3.10.12/lib/python3.10/site-packages/setuptools/_distutils/ccompiler.py:751\u001b[0m, in \u001b[0;36mCCompiler.link_shared_object\u001b[0;34m(self, objects, output_filename, output_dir, libraries, library_dirs, runtime_library_dirs, export_symbols, debug, extra_preargs, extra_postargs, build_temp, target_lang)\u001b[0m\n\u001b[1;32m    736\u001b[0m \u001b[39mdef\u001b[39;00m \u001b[39mlink_shared_object\u001b[39m(\n\u001b[1;32m    737\u001b[0m     \u001b[39mself\u001b[39m,\n\u001b[1;32m    738\u001b[0m     objects,\n\u001b[0;32m   (...)\u001b[0m\n\u001b[1;32m    749\u001b[0m     target_lang\u001b[39m=\u001b[39m\u001b[39mNone\u001b[39;00m,\n\u001b[1;32m    750\u001b[0m ):\n\u001b[0;32m--> 751\u001b[0m     \u001b[39mself\u001b[39;49m\u001b[39m.\u001b[39;49mlink(\n\u001b[1;32m    752\u001b[0m         CCompiler\u001b[39m.\u001b[39;49mSHARED_OBJECT,\n\u001b[1;32m    753\u001b[0m         objects,\n\u001b[1;32m    754\u001b[0m         output_filename,\n\u001b[1;32m    755\u001b[0m         output_dir,\n\u001b[1;32m    756\u001b[0m         libraries,\n\u001b[1;32m    757\u001b[0m         library_dirs,\n\u001b[1;32m    758\u001b[0m         runtime_library_dirs,\n\u001b[1;32m    759\u001b[0m         export_symbols,\n\u001b[1;32m    760\u001b[0m         debug,\n\u001b[1;32m    761\u001b[0m         extra_preargs,\n\u001b[1;32m    762\u001b[0m         extra_postargs,\n\u001b[1;32m    763\u001b[0m         build_temp,\n\u001b[1;32m    764\u001b[0m         target_lang,\n\u001b[1;32m    765\u001b[0m     )\n",
            "File \u001b[0;32m~/.pyenv/versions/3.10.12/lib/python3.10/site-packages/setuptools/_distutils/unixccompiler.py:269\u001b[0m, in \u001b[0;36mUnixCCompiler.link\u001b[0;34m(self, target_desc, objects, output_filename, output_dir, libraries, library_dirs, runtime_library_dirs, export_symbols, debug, extra_preargs, extra_postargs, build_temp, target_lang)\u001b[0m\n\u001b[1;32m    267\u001b[0m         \u001b[39mself\u001b[39m\u001b[39m.\u001b[39mspawn(linker \u001b[39m+\u001b[39m ld_args)\n\u001b[1;32m    268\u001b[0m     \u001b[39mexcept\u001b[39;00m DistutilsExecError \u001b[39mas\u001b[39;00m msg:\n\u001b[0;32m--> 269\u001b[0m         \u001b[39mraise\u001b[39;00m LinkError(msg)\n\u001b[1;32m    270\u001b[0m \u001b[39melse\u001b[39;00m:\n\u001b[1;32m    271\u001b[0m     log\u001b[39m.\u001b[39mdebug(\u001b[39m\"\u001b[39m\u001b[39mskipping \u001b[39m\u001b[39m%s\u001b[39;00m\u001b[39m (up-to-date)\u001b[39m\u001b[39m\"\u001b[39m, output_filename)\n",
            "\u001b[0;31mLinkError\u001b[0m: command '/usr/local/bin/gcc-9' failed with exit code 1"
          ]
        }
      ],
      "source": [
        "import mujoco_py\n",
        "import gym\n",
        "\n",
        "from colabgymrender.recorder import Recorder"
      ]
    },
    {
      "cell_type": "code",
      "execution_count": 11,
      "metadata": {
        "id": "T-izl68BqUG5"
      },
      "outputs": [],
      "source": [
        "# Function that gets an action from the model using autoregressive prediction with a window of the previous 20 timesteps.\n",
        "def get_action(model, states, actions, rewards, returns_to_go, timesteps):\n",
        "    # This implementation does not condition on past rewards\n",
        "\n",
        "    states = states.reshape(1, -1, model.config.state_dim)\n",
        "    actions = actions.reshape(1, -1, model.config.act_dim)\n",
        "    returns_to_go = returns_to_go.reshape(1, -1, 1)\n",
        "    timesteps = timesteps.reshape(1, -1)\n",
        "\n",
        "    states = states[:, -model.config.max_length :]\n",
        "    actions = actions[:, -model.config.max_length :]\n",
        "    returns_to_go = returns_to_go[:, -model.config.max_length :]\n",
        "    timesteps = timesteps[:, -model.config.max_length :]\n",
        "    padding = model.config.max_length - states.shape[1]\n",
        "    # pad all tokens to sequence length\n",
        "    attention_mask = torch.cat([torch.zeros(padding), torch.ones(states.shape[1])])\n",
        "    attention_mask = attention_mask.to(dtype=torch.long).reshape(1, -1)\n",
        "    states = torch.cat([torch.zeros((1, padding, model.config.state_dim)), states], dim=1).float()\n",
        "    actions = torch.cat([torch.zeros((1, padding, model.config.act_dim)), actions], dim=1).float()\n",
        "    returns_to_go = torch.cat([torch.zeros((1, padding, 1)), returns_to_go], dim=1).float()\n",
        "    timesteps = torch.cat([torch.zeros((1, padding), dtype=torch.long), timesteps], dim=1)\n",
        "\n",
        "    state_preds, action_preds, return_preds = model.original_forward(\n",
        "        states=states,\n",
        "        actions=actions,\n",
        "        rewards=rewards,\n",
        "        returns_to_go=returns_to_go,\n",
        "        timesteps=timesteps,\n",
        "        attention_mask=attention_mask,\n",
        "        return_dict=False,\n",
        "    )\n",
        "\n",
        "    return action_preds[0, -1]"
      ]
    },
    {
      "cell_type": "code",
      "execution_count": 14,
      "metadata": {
        "id": "TFPuiNy-qWnP"
      },
      "outputs": [
        {
          "name": "stdout",
          "output_type": "stream",
          "text": [
            "running build_ext\n",
            "building 'mujoco_py.cymj' extension\n",
            "/usr/local/bin/gcc-9 -Wno-unused-result -Wsign-compare -Wunreachable-code -DNDEBUG -g -fwrapv -O3 -Wall -DONMAC -I/Users/jacob/.pyenv/versions/3.10.12/lib/python3.10/site-packages/mujoco_py -I/Users/jacob/.pyenv/versions/3.10.12/lib/python3.10/site-packages/mujoco_py/binaries/macos/mujoco210/include -I/Users/jacob/.pyenv/versions/3.10.12/lib/python3.10/site-packages/numpy/core/include -I/Users/jacob/.pyenv/versions/3.10.12/include/python3.10 -c /Users/jacob/.pyenv/versions/3.10.12/lib/python3.10/site-packages/mujoco_py/cymj.c -o /Users/jacob/.pyenv/versions/3.10.12/lib/python3.10/site-packages/mujoco_py/generated/_pyxbld_2.0.2.13_310_macextensionbuilder/temp.macosx-13.1-x86_64-cpython-310/Users/jacob/.pyenv/versions/3.10.12/lib/python3.10/site-packages/mujoco_py/cymj.o -fopenmp -w\n"
          ]
        },
        {
          "name": "stderr",
          "output_type": "stream",
          "text": [
            "/Users/jacob/.pyenv/versions/3.10.12/lib/python3.10/site-packages/gymnasium/envs/registration.py:513: DeprecationWarning: \u001b[33mWARN: The environment HalfCheetah-v3 is out of date. You should consider upgrading to version `v4`.\u001b[0m\n",
            "  logger.deprecation(\n",
            "gcc-9: warning: could not understand version 13.1\n"
          ]
        },
        {
          "name": "stdout",
          "output_type": "stream",
          "text": [
            "/usr/local/bin/gcc-9 -Wno-unused-result -Wsign-compare -Wunreachable-code -DNDEBUG -g -fwrapv -O3 -Wall -DONMAC -I/Users/jacob/.pyenv/versions/3.10.12/lib/python3.10/site-packages/mujoco_py -I/Users/jacob/.pyenv/versions/3.10.12/lib/python3.10/site-packages/mujoco_py/binaries/macos/mujoco210/include -I/Users/jacob/.pyenv/versions/3.10.12/lib/python3.10/site-packages/numpy/core/include -I/Users/jacob/.pyenv/versions/3.10.12/include/python3.10 -c /Users/jacob/.pyenv/versions/3.10.12/lib/python3.10/site-packages/mujoco_py/gl/dummyshim.c -o /Users/jacob/.pyenv/versions/3.10.12/lib/python3.10/site-packages/mujoco_py/generated/_pyxbld_2.0.2.13_310_macextensionbuilder/temp.macosx-13.1-x86_64-cpython-310/Users/jacob/.pyenv/versions/3.10.12/lib/python3.10/site-packages/mujoco_py/gl/dummyshim.o -fopenmp -w\n",
            "/usr/local/bin/gcc-9 -bundle -undefined dynamic_lookup -L/usr/local/opt/readline/lib -L/usr/local/opt/readline/lib -L/Users/jacob/.pyenv/versions/3.10.12/lib -Wl,-rpath,/Users/jacob/.pyenv/versions/3.10.12/lib -L/Library/Developer/CommandLineTools/SDKs/MacOSX13.1.sdk/usr/lib -L/usr/local/opt/readline/lib -L/usr/local/opt/readline/lib -L/Users/jacob/.pyenv/versions/3.10.12/lib -Wl,-rpath,/Users/jacob/.pyenv/versions/3.10.12/lib -L/Library/Developer/CommandLineTools/SDKs/MacOSX13.1.sdk/usr/lib /Users/jacob/.pyenv/versions/3.10.12/lib/python3.10/site-packages/mujoco_py/generated/_pyxbld_2.0.2.13_310_macextensionbuilder/temp.macosx-13.1-x86_64-cpython-310/Users/jacob/.pyenv/versions/3.10.12/lib/python3.10/site-packages/mujoco_py/cymj.o /Users/jacob/.pyenv/versions/3.10.12/lib/python3.10/site-packages/mujoco_py/generated/_pyxbld_2.0.2.13_310_macextensionbuilder/temp.macosx-13.1-x86_64-cpython-310/Users/jacob/.pyenv/versions/3.10.12/lib/python3.10/site-packages/mujoco_py/gl/dummyshim.o -L/Users/jacob/.pyenv/versions/3.10.12/lib/python3.10/site-packages/mujoco_py/binaries/macos/mujoco210/bin -L/Users/jacob/.pyenv/versions/3.10.12/lib -Wl,-rpath,/Users/jacob/.pyenv/versions/3.10.12/lib/python3.10/site-packages/mujoco_py/binaries/macos/mujoco210/bin -lmujoco210 -lglfw.3 -o /Users/jacob/.pyenv/versions/3.10.12/lib/python3.10/site-packages/mujoco_py/generated/_pyxbld_2.0.2.13_310_macextensionbuilder/lib.macosx-13.1-x86_64-cpython-310/mujoco_py/cymj.cpython-310-darwin.so -fopenmp\n"
          ]
        },
        {
          "name": "stderr",
          "output_type": "stream",
          "text": [
            "gcc-9: warning: could not understand version 13.1\n",
            "gcc-9: warning: could not understand version 13.1\n",
            "ld: -rpath can only be used when targeting Mac OS X 10.5 or later\n",
            "collect2: error: ld returned 1 exit status\n"
          ]
        },
        {
          "ename": "LinkError",
          "evalue": "command '/usr/local/bin/gcc-9' failed with exit code 1",
          "output_type": "error",
          "traceback": [
            "\u001b[0;31m---------------------------------------------------------------------------\u001b[0m",
            "\u001b[0;31mDistutilsExecError\u001b[0m                        Traceback (most recent call last)",
            "File \u001b[0;32m~/.pyenv/versions/3.10.12/lib/python3.10/site-packages/setuptools/_distutils/unixccompiler.py:267\u001b[0m, in \u001b[0;36mUnixCCompiler.link\u001b[0;34m(self, target_desc, objects, output_filename, output_dir, libraries, library_dirs, runtime_library_dirs, export_symbols, debug, extra_preargs, extra_postargs, build_temp, target_lang)\u001b[0m\n\u001b[1;32m    265\u001b[0m     linker \u001b[39m=\u001b[39m compiler_fixup(linker, ld_args)\n\u001b[0;32m--> 267\u001b[0m     \u001b[39mself\u001b[39;49m\u001b[39m.\u001b[39;49mspawn(linker \u001b[39m+\u001b[39;49m ld_args)\n\u001b[1;32m    268\u001b[0m \u001b[39mexcept\u001b[39;00m DistutilsExecError \u001b[39mas\u001b[39;00m msg:\n",
            "File \u001b[0;32m~/.pyenv/versions/3.10.12/lib/python3.10/site-packages/setuptools/_distutils/ccompiler.py:1007\u001b[0m, in \u001b[0;36mCCompiler.spawn\u001b[0;34m(self, cmd, **kwargs)\u001b[0m\n\u001b[1;32m   1006\u001b[0m \u001b[39mdef\u001b[39;00m \u001b[39mspawn\u001b[39m(\u001b[39mself\u001b[39m, cmd, \u001b[39m*\u001b[39m\u001b[39m*\u001b[39mkwargs):\n\u001b[0;32m-> 1007\u001b[0m     spawn(cmd, dry_run\u001b[39m=\u001b[39;49m\u001b[39mself\u001b[39;49m\u001b[39m.\u001b[39;49mdry_run, \u001b[39m*\u001b[39;49m\u001b[39m*\u001b[39;49mkwargs)\n",
            "File \u001b[0;32m~/.pyenv/versions/3.10.12/lib/python3.10/site-packages/setuptools/_distutils/spawn.py:70\u001b[0m, in \u001b[0;36mspawn\u001b[0;34m(cmd, search_path, verbose, dry_run, env)\u001b[0m\n\u001b[1;32m     69\u001b[0m     cmd \u001b[39m=\u001b[39m cmd[\u001b[39m0\u001b[39m]\n\u001b[0;32m---> 70\u001b[0m \u001b[39mraise\u001b[39;00m DistutilsExecError(\n\u001b[1;32m     71\u001b[0m     \u001b[39m\"\u001b[39m\u001b[39mcommand \u001b[39m\u001b[39m{!r}\u001b[39;00m\u001b[39m failed with exit code \u001b[39m\u001b[39m{}\u001b[39;00m\u001b[39m\"\u001b[39m\u001b[39m.\u001b[39mformat(cmd, exitcode)\n\u001b[1;32m     72\u001b[0m )\n",
            "\u001b[0;31mDistutilsExecError\u001b[0m: command '/usr/local/bin/gcc-9' failed with exit code 1",
            "\nDuring handling of the above exception, another exception occurred:\n",
            "\u001b[0;31mLinkError\u001b[0m                                 Traceback (most recent call last)",
            "\u001b[1;32m/Users/jacob/Documents/T/hfdt/train-decision-transformers.ipynb Cell 21\u001b[0m line \u001b[0;36m5\n\u001b[1;32m      <a href='vscode-notebook-cell:/Users/jacob/Documents/T/hfdt/train-decision-transformers.ipynb#X34sZmlsZQ%3D%3D?line=2'>3</a>\u001b[0m directory \u001b[39m=\u001b[39m \u001b[39m'\u001b[39m\u001b[39m./video\u001b[39m\u001b[39m'\u001b[39m\n\u001b[1;32m      <a href='vscode-notebook-cell:/Users/jacob/Documents/T/hfdt/train-decision-transformers.ipynb#X34sZmlsZQ%3D%3D?line=3'>4</a>\u001b[0m model \u001b[39m=\u001b[39m model\u001b[39m.\u001b[39mto(\u001b[39m\"\u001b[39m\u001b[39mcpu\u001b[39m\u001b[39m\"\u001b[39m)\n\u001b[0;32m----> <a href='vscode-notebook-cell:/Users/jacob/Documents/T/hfdt/train-decision-transformers.ipynb#X34sZmlsZQ%3D%3D?line=4'>5</a>\u001b[0m env \u001b[39m=\u001b[39m gym\u001b[39m.\u001b[39;49mmake(\u001b[39m\"\u001b[39;49m\u001b[39mHalfCheetah-v3\u001b[39;49m\u001b[39m\"\u001b[39;49m)\n\u001b[1;32m      <a href='vscode-notebook-cell:/Users/jacob/Documents/T/hfdt/train-decision-transformers.ipynb#X34sZmlsZQ%3D%3D?line=5'>6</a>\u001b[0m env \u001b[39m=\u001b[39m Recorder(env, directory, fps\u001b[39m=\u001b[39m\u001b[39m30\u001b[39m)\n\u001b[1;32m      <a href='vscode-notebook-cell:/Users/jacob/Documents/T/hfdt/train-decision-transformers.ipynb#X34sZmlsZQ%3D%3D?line=6'>7</a>\u001b[0m max_ep_len \u001b[39m=\u001b[39m \u001b[39m1000\u001b[39m\n",
            "File \u001b[0;32m~/.pyenv/versions/3.10.12/lib/python3.10/site-packages/gymnasium/envs/registration.py:756\u001b[0m, in \u001b[0;36mmake\u001b[0;34m(id, max_episode_steps, autoreset, apply_api_compatibility, disable_env_checker, **kwargs)\u001b[0m\n\u001b[1;32m    753\u001b[0m     env_creator \u001b[39m=\u001b[39m env_spec\u001b[39m.\u001b[39mentry_point\n\u001b[1;32m    754\u001b[0m \u001b[39melse\u001b[39;00m:\n\u001b[1;32m    755\u001b[0m     \u001b[39m# Assume it's a string\u001b[39;00m\n\u001b[0;32m--> 756\u001b[0m     env_creator \u001b[39m=\u001b[39m load_env_creator(env_spec\u001b[39m.\u001b[39;49mentry_point)\n\u001b[1;32m    758\u001b[0m \u001b[39m# Determine if to use the rendering\u001b[39;00m\n\u001b[1;32m    759\u001b[0m render_modes: \u001b[39mlist\u001b[39m[\u001b[39mstr\u001b[39m] \u001b[39m|\u001b[39m \u001b[39mNone\u001b[39;00m \u001b[39m=\u001b[39m \u001b[39mNone\u001b[39;00m\n",
            "File \u001b[0;32m~/.pyenv/versions/3.10.12/lib/python3.10/site-packages/gymnasium/envs/registration.py:545\u001b[0m, in \u001b[0;36mload_env_creator\u001b[0;34m(name)\u001b[0m\n\u001b[1;32m    536\u001b[0m \u001b[39m\u001b[39m\u001b[39m\"\"\"Loads an environment with name of style ``\"(import path):(environment name)\"`` and returns the environment creation function, normally the environment class type.\u001b[39;00m\n\u001b[1;32m    537\u001b[0m \n\u001b[1;32m    538\u001b[0m \u001b[39mArgs:\u001b[39;00m\n\u001b[0;32m   (...)\u001b[0m\n\u001b[1;32m    542\u001b[0m \u001b[39m    The environment constructor for the given environment name.\u001b[39;00m\n\u001b[1;32m    543\u001b[0m \u001b[39m\"\"\"\u001b[39;00m\n\u001b[1;32m    544\u001b[0m mod_name, attr_name \u001b[39m=\u001b[39m name\u001b[39m.\u001b[39msplit(\u001b[39m\"\u001b[39m\u001b[39m:\u001b[39m\u001b[39m\"\u001b[39m)\n\u001b[0;32m--> 545\u001b[0m mod \u001b[39m=\u001b[39m importlib\u001b[39m.\u001b[39;49mimport_module(mod_name)\n\u001b[1;32m    546\u001b[0m fn \u001b[39m=\u001b[39m \u001b[39mgetattr\u001b[39m(mod, attr_name)\n\u001b[1;32m    547\u001b[0m \u001b[39mreturn\u001b[39;00m fn\n",
            "File \u001b[0;32m~/.pyenv/versions/3.10.12/lib/python3.10/importlib/__init__.py:126\u001b[0m, in \u001b[0;36mimport_module\u001b[0;34m(name, package)\u001b[0m\n\u001b[1;32m    124\u001b[0m             \u001b[39mbreak\u001b[39;00m\n\u001b[1;32m    125\u001b[0m         level \u001b[39m+\u001b[39m\u001b[39m=\u001b[39m \u001b[39m1\u001b[39m\n\u001b[0;32m--> 126\u001b[0m \u001b[39mreturn\u001b[39;00m _bootstrap\u001b[39m.\u001b[39;49m_gcd_import(name[level:], package, level)\n",
            "File \u001b[0;32m<frozen importlib._bootstrap>:1050\u001b[0m, in \u001b[0;36m_gcd_import\u001b[0;34m(name, package, level)\u001b[0m\n",
            "File \u001b[0;32m<frozen importlib._bootstrap>:1027\u001b[0m, in \u001b[0;36m_find_and_load\u001b[0;34m(name, import_)\u001b[0m\n",
            "File \u001b[0;32m<frozen importlib._bootstrap>:992\u001b[0m, in \u001b[0;36m_find_and_load_unlocked\u001b[0;34m(name, import_)\u001b[0m\n",
            "File \u001b[0;32m<frozen importlib._bootstrap>:241\u001b[0m, in \u001b[0;36m_call_with_frames_removed\u001b[0;34m(f, *args, **kwds)\u001b[0m\n",
            "File \u001b[0;32m<frozen importlib._bootstrap>:1050\u001b[0m, in \u001b[0;36m_gcd_import\u001b[0;34m(name, package, level)\u001b[0m\n",
            "File \u001b[0;32m<frozen importlib._bootstrap>:1027\u001b[0m, in \u001b[0;36m_find_and_load\u001b[0;34m(name, import_)\u001b[0m\n",
            "File \u001b[0;32m<frozen importlib._bootstrap>:1006\u001b[0m, in \u001b[0;36m_find_and_load_unlocked\u001b[0;34m(name, import_)\u001b[0m\n",
            "File \u001b[0;32m<frozen importlib._bootstrap>:688\u001b[0m, in \u001b[0;36m_load_unlocked\u001b[0;34m(spec)\u001b[0m\n",
            "File \u001b[0;32m<frozen importlib._bootstrap_external>:883\u001b[0m, in \u001b[0;36mexec_module\u001b[0;34m(self, module)\u001b[0m\n",
            "File \u001b[0;32m<frozen importlib._bootstrap>:241\u001b[0m, in \u001b[0;36m_call_with_frames_removed\u001b[0;34m(f, *args, **kwds)\u001b[0m\n",
            "File \u001b[0;32m~/.pyenv/versions/3.10.12/lib/python3.10/site-packages/gymnasium/envs/mujoco/__init__.py:1\u001b[0m\n\u001b[0;32m----> 1\u001b[0m \u001b[39mfrom\u001b[39;00m \u001b[39mgymnasium\u001b[39;00m\u001b[39m.\u001b[39;00m\u001b[39menvs\u001b[39;00m\u001b[39m.\u001b[39;00m\u001b[39mmujoco\u001b[39;00m\u001b[39m.\u001b[39;00m\u001b[39mmujoco_env\u001b[39;00m \u001b[39mimport\u001b[39;00m MujocoEnv, MuJocoPyEnv  \u001b[39m# isort:skip\u001b[39;00m\n\u001b[1;32m      3\u001b[0m \u001b[39m# ^^^^^ so that user gets the correct error\u001b[39;00m\n\u001b[1;32m      4\u001b[0m \u001b[39m# message if mujoco is not installed correctly\u001b[39;00m\n\u001b[1;32m      5\u001b[0m \u001b[39mfrom\u001b[39;00m \u001b[39mgymnasium\u001b[39;00m\u001b[39m.\u001b[39;00m\u001b[39menvs\u001b[39;00m\u001b[39m.\u001b[39;00m\u001b[39mmujoco\u001b[39;00m\u001b[39m.\u001b[39;00m\u001b[39mant\u001b[39;00m \u001b[39mimport\u001b[39;00m AntEnv\n",
            "File \u001b[0;32m~/.pyenv/versions/3.10.12/lib/python3.10/site-packages/gymnasium/envs/mujoco/mujoco_env.py:13\u001b[0m\n\u001b[1;32m      9\u001b[0m \u001b[39mfrom\u001b[39;00m \u001b[39mgymnasium\u001b[39;00m\u001b[39m.\u001b[39;00m\u001b[39mspaces\u001b[39;00m \u001b[39mimport\u001b[39;00m Space\n\u001b[1;32m     12\u001b[0m \u001b[39mtry\u001b[39;00m:\n\u001b[0;32m---> 13\u001b[0m     \u001b[39mimport\u001b[39;00m \u001b[39mmujoco_py\u001b[39;00m\n\u001b[1;32m     14\u001b[0m \u001b[39mexcept\u001b[39;00m \u001b[39mImportError\u001b[39;00m \u001b[39mas\u001b[39;00m e:\n\u001b[1;32m     15\u001b[0m     MUJOCO_PY_IMPORT_ERROR \u001b[39m=\u001b[39m e\n",
            "File \u001b[0;32m~/.pyenv/versions/3.10.12/lib/python3.10/site-packages/mujoco_py/__init__.py:15\u001b[0m\n\u001b[1;32m     12\u001b[0m     os\u001b[39m.\u001b[39menviron[\u001b[39m\"\u001b[39m\u001b[39mLD_LIBRARY_PATH\u001b[39m\u001b[39m\"\u001b[39m] \u001b[39m=\u001b[39m os\u001b[39m.\u001b[39mpath\u001b[39m.\u001b[39mjoin(mujoco_py\u001b[39m.\u001b[39m__path__[\u001b[39m0\u001b[39m], \u001b[39m\"\u001b[39m\u001b[39mbinaries\u001b[39m\u001b[39m\"\u001b[39m, \u001b[39m\"\u001b[39m\u001b[39mwindows\u001b[39m\u001b[39m\"\u001b[39m, \u001b[39m\"\u001b[39m\u001b[39mmujoco210\u001b[39m\u001b[39m\"\u001b[39m, \u001b[39m\"\u001b[39m\u001b[39mbin\u001b[39m\u001b[39m\"\u001b[39m)\n\u001b[1;32m     14\u001b[0m \u001b[39m#!/usr/bin/env python\u001b[39;00m\n\u001b[0;32m---> 15\u001b[0m \u001b[39mfrom\u001b[39;00m \u001b[39mmujoco_py\u001b[39;00m\u001b[39m.\u001b[39;00m\u001b[39mbuilder\u001b[39;00m \u001b[39mimport\u001b[39;00m cymj, ignore_mujoco_warnings, functions, MujocoException\n\u001b[1;32m     16\u001b[0m \u001b[39mfrom\u001b[39;00m \u001b[39mmujoco_py\u001b[39;00m\u001b[39m.\u001b[39;00m\u001b[39mgenerated\u001b[39;00m \u001b[39mimport\u001b[39;00m const\n\u001b[1;32m     17\u001b[0m \u001b[39mfrom\u001b[39;00m \u001b[39mmujoco_py\u001b[39;00m\u001b[39m.\u001b[39;00m\u001b[39mmjrenderpool\u001b[39;00m \u001b[39mimport\u001b[39;00m MjRenderPool\n",
            "File \u001b[0;32m~/.pyenv/versions/3.10.12/lib/python3.10/site-packages/mujoco_py/builder.py:499\u001b[0m\n\u001b[1;32m    495\u001b[0m     \u001b[39mreturn\u001b[39;00m module\u001b[39m.\u001b[39mlib\u001b[39m.\u001b[39m__fun\n\u001b[1;32m    498\u001b[0m mujoco_path \u001b[39m=\u001b[39m discover_mujoco()\n\u001b[0;32m--> 499\u001b[0m cymj \u001b[39m=\u001b[39m load_cython_ext(mujoco_path)\n\u001b[1;32m    502\u001b[0m \u001b[39m# Trick to expose all mj* functions from mujoco in mujoco_py.*\u001b[39;00m\n\u001b[1;32m    503\u001b[0m \u001b[39mclass\u001b[39;00m \u001b[39mdict2\u001b[39;00m(\u001b[39mobject\u001b[39m):\n",
            "File \u001b[0;32m~/.pyenv/versions/3.10.12/lib/python3.10/site-packages/mujoco_py/builder.py:105\u001b[0m, in \u001b[0;36mload_cython_ext\u001b[0;34m(mujoco_path)\u001b[0m\n\u001b[1;32m    103\u001b[0m             \u001b[39mprint\u001b[39m(\u001b[39m\"\u001b[39m\u001b[39mImport error. Trying to rebuild mujoco_py.\u001b[39m\u001b[39m\"\u001b[39m)\n\u001b[1;32m    104\u001b[0m     \u001b[39mif\u001b[39;00m mod \u001b[39mis\u001b[39;00m \u001b[39mNone\u001b[39;00m:\n\u001b[0;32m--> 105\u001b[0m         cext_so_path \u001b[39m=\u001b[39m builder\u001b[39m.\u001b[39;49mbuild()\n\u001b[1;32m    106\u001b[0m         mod \u001b[39m=\u001b[39m load_dynamic_ext(\u001b[39m'\u001b[39m\u001b[39mcymj\u001b[39m\u001b[39m'\u001b[39m, cext_so_path)\n\u001b[1;32m    108\u001b[0m \u001b[39mreturn\u001b[39;00m mod\n",
            "File \u001b[0;32m~/.pyenv/versions/3.10.12/lib/python3.10/site-packages/mujoco_py/builder.py:221\u001b[0m, in \u001b[0;36mMujocoExtensionBuilder.build\u001b[0;34m(self)\u001b[0m\n\u001b[1;32m    220\u001b[0m \u001b[39mdef\u001b[39;00m \u001b[39mbuild\u001b[39m(\u001b[39mself\u001b[39m):\n\u001b[0;32m--> 221\u001b[0m     built_so_file_path \u001b[39m=\u001b[39m \u001b[39mself\u001b[39;49m\u001b[39m.\u001b[39;49m_build_impl()\n\u001b[1;32m    222\u001b[0m     new_so_file_path \u001b[39m=\u001b[39m \u001b[39mself\u001b[39m\u001b[39m.\u001b[39mget_so_file_path()\n\u001b[1;32m    223\u001b[0m     move(built_so_file_path, new_so_file_path)\n",
            "File \u001b[0;32m~/.pyenv/versions/3.10.12/lib/python3.10/site-packages/mujoco_py/builder.py:338\u001b[0m, in \u001b[0;36mMacExtensionBuilder._build_impl\u001b[0;34m(self)\u001b[0m\n\u001b[1;32m    336\u001b[0m     \u001b[39mdel\u001b[39;00m os\u001b[39m.\u001b[39menviron[\u001b[39m'\u001b[39m\u001b[39mCC\u001b[39m\u001b[39m'\u001b[39m]\n\u001b[1;32m    337\u001b[0m \u001b[39melse\u001b[39;00m:  \u001b[39m# User-directed c compiler\u001b[39;00m\n\u001b[0;32m--> 338\u001b[0m     so_file_path \u001b[39m=\u001b[39m \u001b[39msuper\u001b[39;49m()\u001b[39m.\u001b[39;49m_build_impl()\n\u001b[1;32m    339\u001b[0m \u001b[39mreturn\u001b[39;00m manually_link_libraries(\u001b[39mself\u001b[39m\u001b[39m.\u001b[39mmujoco_path, so_file_path)\n",
            "File \u001b[0;32m~/.pyenv/versions/3.10.12/lib/python3.10/site-packages/mujoco_py/builder.py:244\u001b[0m, in \u001b[0;36mMujocoExtensionBuilder._build_impl\u001b[0;34m(self)\u001b[0m\n\u001b[1;32m    242\u001b[0m dist\u001b[39m.\u001b[39mparse_command_line()\n\u001b[1;32m    243\u001b[0m obj_build_ext \u001b[39m=\u001b[39m dist\u001b[39m.\u001b[39mget_command_obj(\u001b[39m\"\u001b[39m\u001b[39mbuild_ext\u001b[39m\u001b[39m\"\u001b[39m)\n\u001b[0;32m--> 244\u001b[0m dist\u001b[39m.\u001b[39;49mrun_commands()\n\u001b[1;32m    245\u001b[0m built_so_file_path, \u001b[39m=\u001b[39m obj_build_ext\u001b[39m.\u001b[39mget_outputs()\n\u001b[1;32m    246\u001b[0m \u001b[39mreturn\u001b[39;00m built_so_file_path\n",
            "File \u001b[0;32m~/.pyenv/versions/3.10.12/lib/python3.10/site-packages/setuptools/_distutils/dist.py:968\u001b[0m, in \u001b[0;36mDistribution.run_commands\u001b[0;34m(self)\u001b[0m\n\u001b[1;32m    963\u001b[0m \u001b[39m\u001b[39m\u001b[39m\"\"\"Run each command that was seen on the setup script command line.\u001b[39;00m\n\u001b[1;32m    964\u001b[0m \u001b[39mUses the list of commands found and cache of command objects\u001b[39;00m\n\u001b[1;32m    965\u001b[0m \u001b[39mcreated by 'get_command_obj()'.\u001b[39;00m\n\u001b[1;32m    966\u001b[0m \u001b[39m\"\"\"\u001b[39;00m\n\u001b[1;32m    967\u001b[0m \u001b[39mfor\u001b[39;00m cmd \u001b[39min\u001b[39;00m \u001b[39mself\u001b[39m\u001b[39m.\u001b[39mcommands:\n\u001b[0;32m--> 968\u001b[0m     \u001b[39mself\u001b[39;49m\u001b[39m.\u001b[39;49mrun_command(cmd)\n",
            "File \u001b[0;32m~/.pyenv/versions/3.10.12/lib/python3.10/site-packages/setuptools/dist.py:1217\u001b[0m, in \u001b[0;36mDistribution.run_command\u001b[0;34m(self, command)\u001b[0m\n\u001b[1;32m   1213\u001b[0m \u001b[39mself\u001b[39m\u001b[39m.\u001b[39mset_defaults()\n\u001b[1;32m   1214\u001b[0m \u001b[39m# Postpone defaults until all explicit configuration is considered\u001b[39;00m\n\u001b[1;32m   1215\u001b[0m \u001b[39m# (setup() args, config files, command line and plugins)\u001b[39;00m\n\u001b[0;32m-> 1217\u001b[0m \u001b[39msuper\u001b[39;49m()\u001b[39m.\u001b[39;49mrun_command(command)\n",
            "File \u001b[0;32m~/.pyenv/versions/3.10.12/lib/python3.10/site-packages/setuptools/_distutils/dist.py:987\u001b[0m, in \u001b[0;36mDistribution.run_command\u001b[0;34m(self, command)\u001b[0m\n\u001b[1;32m    985\u001b[0m cmd_obj \u001b[39m=\u001b[39m \u001b[39mself\u001b[39m\u001b[39m.\u001b[39mget_command_obj(command)\n\u001b[1;32m    986\u001b[0m cmd_obj\u001b[39m.\u001b[39mensure_finalized()\n\u001b[0;32m--> 987\u001b[0m cmd_obj\u001b[39m.\u001b[39;49mrun()\n\u001b[1;32m    988\u001b[0m \u001b[39mself\u001b[39m\u001b[39m.\u001b[39mhave_run[command] \u001b[39m=\u001b[39m \u001b[39m1\u001b[39m\n",
            "File \u001b[0;32m~/.pyenv/versions/3.10.12/lib/python3.10/site-packages/Cython/Distutils/old_build_ext.py:186\u001b[0m, in \u001b[0;36mold_build_ext.run\u001b[0;34m(self)\u001b[0m\n\u001b[1;32m    182\u001b[0m \u001b[39mif\u001b[39;00m \u001b[39mself\u001b[39m\u001b[39m.\u001b[39mcython_gdb \u001b[39mor\u001b[39;00m [\u001b[39m1\u001b[39m \u001b[39mfor\u001b[39;00m ext \u001b[39min\u001b[39;00m \u001b[39mself\u001b[39m\u001b[39m.\u001b[39mextensions\n\u001b[1;32m    183\u001b[0m                              \u001b[39mif\u001b[39;00m \u001b[39mgetattr\u001b[39m(ext, \u001b[39m'\u001b[39m\u001b[39mcython_gdb\u001b[39m\u001b[39m'\u001b[39m, \u001b[39mFalse\u001b[39;00m)]:\n\u001b[1;32m    184\u001b[0m     optimization\u001b[39m.\u001b[39mdisable_optimization()\n\u001b[0;32m--> 186\u001b[0m _build_ext\u001b[39m.\u001b[39;49mbuild_ext\u001b[39m.\u001b[39;49mrun(\u001b[39mself\u001b[39;49m)\n",
            "File \u001b[0;32m~/.pyenv/versions/3.10.12/lib/python3.10/site-packages/setuptools/_distutils/command/build_ext.py:346\u001b[0m, in \u001b[0;36mbuild_ext.run\u001b[0;34m(self)\u001b[0m\n\u001b[1;32m    343\u001b[0m     \u001b[39mself\u001b[39m\u001b[39m.\u001b[39mcompiler\u001b[39m.\u001b[39mset_link_objects(\u001b[39mself\u001b[39m\u001b[39m.\u001b[39mlink_objects)\n\u001b[1;32m    345\u001b[0m \u001b[39m# Now actually compile and link everything.\u001b[39;00m\n\u001b[0;32m--> 346\u001b[0m \u001b[39mself\u001b[39;49m\u001b[39m.\u001b[39;49mbuild_extensions()\n",
            "File \u001b[0;32m~/.pyenv/versions/3.10.12/lib/python3.10/site-packages/mujoco_py/builder.py:144\u001b[0m, in \u001b[0;36mcustom_build_ext.build_extensions\u001b[0;34m(self)\u001b[0m\n\u001b[1;32m    142\u001b[0m \u001b[39mexcept\u001b[39;00m (\u001b[39mAttributeError\u001b[39;00m, \u001b[39mValueError\u001b[39;00m):\n\u001b[1;32m    143\u001b[0m     \u001b[39mpass\u001b[39;00m\n\u001b[0;32m--> 144\u001b[0m build_ext\u001b[39m.\u001b[39;49mbuild_extensions(\u001b[39mself\u001b[39;49m)\n",
            "File \u001b[0;32m~/.pyenv/versions/3.10.12/lib/python3.10/site-packages/Cython/Distutils/old_build_ext.py:195\u001b[0m, in \u001b[0;36mold_build_ext.build_extensions\u001b[0;34m(self)\u001b[0m\n\u001b[1;32m    193\u001b[0m     ext\u001b[39m.\u001b[39msources \u001b[39m=\u001b[39m \u001b[39mself\u001b[39m\u001b[39m.\u001b[39mcython_sources(ext\u001b[39m.\u001b[39msources, ext)\n\u001b[1;32m    194\u001b[0m \u001b[39m# Call original build_extensions\u001b[39;00m\n\u001b[0;32m--> 195\u001b[0m _build_ext\u001b[39m.\u001b[39;49mbuild_ext\u001b[39m.\u001b[39;49mbuild_extensions(\u001b[39mself\u001b[39;49m)\n",
            "File \u001b[0;32m~/.pyenv/versions/3.10.12/lib/python3.10/site-packages/setuptools/_distutils/command/build_ext.py:466\u001b[0m, in \u001b[0;36mbuild_ext.build_extensions\u001b[0;34m(self)\u001b[0m\n\u001b[1;32m    464\u001b[0m     \u001b[39mself\u001b[39m\u001b[39m.\u001b[39m_build_extensions_parallel()\n\u001b[1;32m    465\u001b[0m \u001b[39melse\u001b[39;00m:\n\u001b[0;32m--> 466\u001b[0m     \u001b[39mself\u001b[39;49m\u001b[39m.\u001b[39;49m_build_extensions_serial()\n",
            "File \u001b[0;32m~/.pyenv/versions/3.10.12/lib/python3.10/site-packages/setuptools/_distutils/command/build_ext.py:492\u001b[0m, in \u001b[0;36mbuild_ext._build_extensions_serial\u001b[0;34m(self)\u001b[0m\n\u001b[1;32m    490\u001b[0m \u001b[39mfor\u001b[39;00m ext \u001b[39min\u001b[39;00m \u001b[39mself\u001b[39m\u001b[39m.\u001b[39mextensions:\n\u001b[1;32m    491\u001b[0m     \u001b[39mwith\u001b[39;00m \u001b[39mself\u001b[39m\u001b[39m.\u001b[39m_filter_build_errors(ext):\n\u001b[0;32m--> 492\u001b[0m         \u001b[39mself\u001b[39;49m\u001b[39m.\u001b[39;49mbuild_extension(ext)\n",
            "File \u001b[0;32m~/.pyenv/versions/3.10.12/lib/python3.10/site-packages/setuptools/_distutils/command/build_ext.py:571\u001b[0m, in \u001b[0;36mbuild_ext.build_extension\u001b[0;34m(self, ext)\u001b[0m\n\u001b[1;32m    568\u001b[0m \u001b[39m# Detect target language, if not provided\u001b[39;00m\n\u001b[1;32m    569\u001b[0m language \u001b[39m=\u001b[39m ext\u001b[39m.\u001b[39mlanguage \u001b[39mor\u001b[39;00m \u001b[39mself\u001b[39m\u001b[39m.\u001b[39mcompiler\u001b[39m.\u001b[39mdetect_language(sources)\n\u001b[0;32m--> 571\u001b[0m \u001b[39mself\u001b[39;49m\u001b[39m.\u001b[39;49mcompiler\u001b[39m.\u001b[39;49mlink_shared_object(\n\u001b[1;32m    572\u001b[0m     objects,\n\u001b[1;32m    573\u001b[0m     ext_path,\n\u001b[1;32m    574\u001b[0m     libraries\u001b[39m=\u001b[39;49m\u001b[39mself\u001b[39;49m\u001b[39m.\u001b[39;49mget_libraries(ext),\n\u001b[1;32m    575\u001b[0m     library_dirs\u001b[39m=\u001b[39;49mext\u001b[39m.\u001b[39;49mlibrary_dirs,\n\u001b[1;32m    576\u001b[0m     runtime_library_dirs\u001b[39m=\u001b[39;49mext\u001b[39m.\u001b[39;49mruntime_library_dirs,\n\u001b[1;32m    577\u001b[0m     extra_postargs\u001b[39m=\u001b[39;49mextra_args,\n\u001b[1;32m    578\u001b[0m     export_symbols\u001b[39m=\u001b[39;49m\u001b[39mself\u001b[39;49m\u001b[39m.\u001b[39;49mget_export_symbols(ext),\n\u001b[1;32m    579\u001b[0m     debug\u001b[39m=\u001b[39;49m\u001b[39mself\u001b[39;49m\u001b[39m.\u001b[39;49mdebug,\n\u001b[1;32m    580\u001b[0m     build_temp\u001b[39m=\u001b[39;49m\u001b[39mself\u001b[39;49m\u001b[39m.\u001b[39;49mbuild_temp,\n\u001b[1;32m    581\u001b[0m     target_lang\u001b[39m=\u001b[39;49mlanguage,\n\u001b[1;32m    582\u001b[0m )\n",
            "File \u001b[0;32m~/.pyenv/versions/3.10.12/lib/python3.10/site-packages/setuptools/_distutils/ccompiler.py:751\u001b[0m, in \u001b[0;36mCCompiler.link_shared_object\u001b[0;34m(self, objects, output_filename, output_dir, libraries, library_dirs, runtime_library_dirs, export_symbols, debug, extra_preargs, extra_postargs, build_temp, target_lang)\u001b[0m\n\u001b[1;32m    736\u001b[0m \u001b[39mdef\u001b[39;00m \u001b[39mlink_shared_object\u001b[39m(\n\u001b[1;32m    737\u001b[0m     \u001b[39mself\u001b[39m,\n\u001b[1;32m    738\u001b[0m     objects,\n\u001b[0;32m   (...)\u001b[0m\n\u001b[1;32m    749\u001b[0m     target_lang\u001b[39m=\u001b[39m\u001b[39mNone\u001b[39;00m,\n\u001b[1;32m    750\u001b[0m ):\n\u001b[0;32m--> 751\u001b[0m     \u001b[39mself\u001b[39;49m\u001b[39m.\u001b[39;49mlink(\n\u001b[1;32m    752\u001b[0m         CCompiler\u001b[39m.\u001b[39;49mSHARED_OBJECT,\n\u001b[1;32m    753\u001b[0m         objects,\n\u001b[1;32m    754\u001b[0m         output_filename,\n\u001b[1;32m    755\u001b[0m         output_dir,\n\u001b[1;32m    756\u001b[0m         libraries,\n\u001b[1;32m    757\u001b[0m         library_dirs,\n\u001b[1;32m    758\u001b[0m         runtime_library_dirs,\n\u001b[1;32m    759\u001b[0m         export_symbols,\n\u001b[1;32m    760\u001b[0m         debug,\n\u001b[1;32m    761\u001b[0m         extra_preargs,\n\u001b[1;32m    762\u001b[0m         extra_postargs,\n\u001b[1;32m    763\u001b[0m         build_temp,\n\u001b[1;32m    764\u001b[0m         target_lang,\n\u001b[1;32m    765\u001b[0m     )\n",
            "File \u001b[0;32m~/.pyenv/versions/3.10.12/lib/python3.10/site-packages/setuptools/_distutils/unixccompiler.py:269\u001b[0m, in \u001b[0;36mUnixCCompiler.link\u001b[0;34m(self, target_desc, objects, output_filename, output_dir, libraries, library_dirs, runtime_library_dirs, export_symbols, debug, extra_preargs, extra_postargs, build_temp, target_lang)\u001b[0m\n\u001b[1;32m    267\u001b[0m         \u001b[39mself\u001b[39m\u001b[39m.\u001b[39mspawn(linker \u001b[39m+\u001b[39m ld_args)\n\u001b[1;32m    268\u001b[0m     \u001b[39mexcept\u001b[39;00m DistutilsExecError \u001b[39mas\u001b[39;00m msg:\n\u001b[0;32m--> 269\u001b[0m         \u001b[39mraise\u001b[39;00m LinkError(msg)\n\u001b[1;32m    270\u001b[0m \u001b[39melse\u001b[39;00m:\n\u001b[1;32m    271\u001b[0m     log\u001b[39m.\u001b[39mdebug(\u001b[39m\"\u001b[39m\u001b[39mskipping \u001b[39m\u001b[39m%s\u001b[39;00m\u001b[39m (up-to-date)\u001b[39m\u001b[39m\"\u001b[39m, output_filename)\n",
            "\u001b[0;31mLinkError\u001b[0m: command '/usr/local/bin/gcc-9' failed with exit code 1"
          ]
        }
      ],
      "source": [
        "import gymnasium as gym\n",
        "# build the environment\n",
        "directory = './video'\n",
        "model = model.to(\"cpu\")\n",
        "env = gym.make(\"HalfCheetah-v3\")\n",
        "env = Recorder(env, directory, fps=30)\n",
        "max_ep_len = 1000\n",
        "device = \"cpu\"\n",
        "scale = 1000.0  # normalization for rewards/returns\n",
        "TARGET_RETURN = 12000 / scale  # evaluation is conditioned on a return of 12000, scaled accordingly\n",
        "\n",
        "state_mean = collator.state_mean.astype(np.float32)\n",
        "state_std = collator.state_std.astype(np.float32)\n",
        "print(state_mean)\n",
        "\n",
        "state_dim = env.observation_space.shape[0]\n",
        "act_dim = env.action_space.shape[0]\n",
        "# Create the decision transformer model\n",
        "\n",
        "state_mean = torch.from_numpy(state_mean).to(device=device)\n",
        "state_std = torch.from_numpy(state_std).to(device=device)\n"
      ]
    },
    {
      "cell_type": "code",
      "execution_count": null,
      "metadata": {
        "id": "ysPH9rtRqY-g"
      },
      "outputs": [],
      "source": [
        "# Interact with the environment and create a video\n",
        "episode_return, episode_length = 0, 0\n",
        "state = env.reset()\n",
        "target_return = torch.tensor(TARGET_RETURN, device=device, dtype=torch.float32).reshape(1, 1)\n",
        "states = torch.from_numpy(state).reshape(1, state_dim).to(device=device, dtype=torch.float32)\n",
        "actions = torch.zeros((0, act_dim), device=device, dtype=torch.float32)\n",
        "rewards = torch.zeros(0, device=device, dtype=torch.float32)\n",
        "\n",
        "timesteps = torch.tensor(0, device=device, dtype=torch.long).reshape(1, 1)\n",
        "for t in range(max_ep_len):\n",
        "    actions = torch.cat([actions, torch.zeros((1, act_dim), device=device)], dim=0)\n",
        "    rewards = torch.cat([rewards, torch.zeros(1, device=device)])\n",
        "\n",
        "    action = get_action(\n",
        "        model,\n",
        "        (states - state_mean) / state_std,\n",
        "        actions,\n",
        "        rewards,\n",
        "        target_return,\n",
        "        timesteps,\n",
        "    )\n",
        "    actions[-1] = action\n",
        "    action = action.detach().cpu().numpy()\n",
        "\n",
        "    state, reward, done, _ = env.step(action)\n",
        "\n",
        "    cur_state = torch.from_numpy(state).to(device=device).reshape(1, state_dim)\n",
        "    states = torch.cat([states, cur_state], dim=0)\n",
        "    rewards[-1] = reward\n",
        "\n",
        "    pred_return = target_return[0, -1] - (reward / scale)\n",
        "    target_return = torch.cat([target_return, pred_return.reshape(1, 1)], dim=1)\n",
        "    timesteps = torch.cat([timesteps, torch.ones((1, 1), device=device, dtype=torch.long) * (t + 1)], dim=1)\n",
        "\n",
        "    episode_return += reward\n",
        "    episode_length += 1\n",
        "\n",
        "    if done:\n",
        "        break\n"
      ]
    },
    {
      "cell_type": "code",
      "execution_count": null,
      "metadata": {
        "colab": {
          "background_save": true
        },
        "id": "dn1Zy7x9qbnI"
      },
      "outputs": [],
      "source": [
        "# Play the video\n",
        "env.play()\n",
        "# If you want to convert the video:\n",
        "# !ffmpeg -i {your_video} -vcodec h264 replay.mp4 "
      ]
    },
    {
      "cell_type": "code",
      "execution_count": null,
      "metadata": {
        "colab": {
          "background_save": true
        },
        "id": "zkuqy2bdxUdj"
      },
      "outputs": [],
      "source": [
        "from huggingface_hub import notebook_login\n",
        "notebook_login()"
      ]
    },
    {
      "cell_type": "code",
      "execution_count": null,
      "metadata": {
        "colab": {
          "background_save": true
        },
        "id": "vZwU9gfMxbht"
      },
      "outputs": [],
      "source": [
        "trainer.push_to_hub()"
      ]
    }
  ],
  "metadata": {
    "accelerator": "GPU",
    "colab": {
      "collapsed_sections": [],
      "include_colab_link": true,
      "private_outputs": true,
      "provenance": []
    },
    "gpuClass": "standard",
    "kernelspec": {
      "display_name": "Python 3",
      "name": "python3"
    },
    "language_info": {
      "codemirror_mode": {
        "name": "ipython",
        "version": 3
      },
      "file_extension": ".py",
      "mimetype": "text/x-python",
      "name": "python",
      "nbconvert_exporter": "python",
      "pygments_lexer": "ipython3",
      "version": "3.10.12"
    }
  },
  "nbformat": 4,
  "nbformat_minor": 0
}
